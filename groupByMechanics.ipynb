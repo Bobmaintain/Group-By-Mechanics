{
 "cells": [
  {
   "cell_type": "markdown",
   "metadata": {},
   "source": [
    "# GROUPBY MECHANICS"
   ]
  },
  {
   "cell_type": "code",
   "execution_count": 1,
   "metadata": {},
   "outputs": [],
   "source": [
    "import numpy as np\n",
    "import pandas as pd"
   ]
  },
  {
   "cell_type": "code",
   "execution_count": 6,
   "metadata": {},
   "outputs": [
    {
     "data": {
      "text/html": [
       "<div>\n",
       "<style scoped>\n",
       "    .dataframe tbody tr th:only-of-type {\n",
       "        vertical-align: middle;\n",
       "    }\n",
       "\n",
       "    .dataframe tbody tr th {\n",
       "        vertical-align: top;\n",
       "    }\n",
       "\n",
       "    .dataframe thead th {\n",
       "        text-align: right;\n",
       "    }\n",
       "</style>\n",
       "<table border=\"1\" class=\"dataframe\">\n",
       "  <thead>\n",
       "    <tr style=\"text-align: right;\">\n",
       "      <th></th>\n",
       "      <th>key1</th>\n",
       "      <th>key2</th>\n",
       "      <th>data1</th>\n",
       "      <th>data2</th>\n",
       "    </tr>\n",
       "  </thead>\n",
       "  <tbody>\n",
       "    <tr>\n",
       "      <th>0</th>\n",
       "      <td>a</td>\n",
       "      <td>one</td>\n",
       "      <td>-0.699511</td>\n",
       "      <td>-0.388558</td>\n",
       "    </tr>\n",
       "    <tr>\n",
       "      <th>1</th>\n",
       "      <td>a</td>\n",
       "      <td>two</td>\n",
       "      <td>-0.345863</td>\n",
       "      <td>0.535094</td>\n",
       "    </tr>\n",
       "    <tr>\n",
       "      <th>2</th>\n",
       "      <td>b</td>\n",
       "      <td>one</td>\n",
       "      <td>-0.749546</td>\n",
       "      <td>-1.071714</td>\n",
       "    </tr>\n",
       "    <tr>\n",
       "      <th>3</th>\n",
       "      <td>b</td>\n",
       "      <td>two</td>\n",
       "      <td>-2.196750</td>\n",
       "      <td>0.524351</td>\n",
       "    </tr>\n",
       "    <tr>\n",
       "      <th>4</th>\n",
       "      <td>a</td>\n",
       "      <td>one</td>\n",
       "      <td>0.264189</td>\n",
       "      <td>2.621417</td>\n",
       "    </tr>\n",
       "  </tbody>\n",
       "</table>\n",
       "</div>"
      ],
      "text/plain": [
       "  key1 key2     data1     data2\n",
       "0    a  one -0.699511 -0.388558\n",
       "1    a  two -0.345863  0.535094\n",
       "2    b  one -0.749546 -1.071714\n",
       "3    b  two -2.196750  0.524351\n",
       "4    a  one  0.264189  2.621417"
      ]
     },
     "execution_count": 6,
     "metadata": {},
     "output_type": "execute_result"
    }
   ],
   "source": [
    "#Groupby Mechanics\n",
    "\n",
    "# The term split-apply-combine is used for describing group operations. \n",
    "    # In the first stage of the process, data contained in a pandas object, whether a Series, Data‐Frame, \n",
    "    # or otherwise, is split into groups based on one or more keys that you provide.\n",
    "    # The splitting is performed on a particular axis of an object. \n",
    "    # For example, a DataFrame can be grouped on its rows (axis=0) or its columns (axis=1). \n",
    "    # Once this is done, a function is applied to each group, producing a new value. \n",
    "    # Finally, the results of all those function applications are combined into a result object. \n",
    "    # The form of the resulting object will usually depend on what’s being done to the data.\n",
    "\n",
    "\n",
    "df = pd.DataFrame({'key1' : ['a', 'a', 'b', 'b', 'a'], \n",
    "                   'key2' : ['one', 'two', 'one', 'two', 'one'], \n",
    "                   'data1' : np.random.randn(5), \n",
    "                   'data2' : np.random.randn(5)})\n",
    "df\n"
   ]
  },
  {
   "cell_type": "code",
   "execution_count": 7,
   "metadata": {},
   "outputs": [
    {
     "data": {
      "text/plain": [
       "<pandas.core.groupby.generic.SeriesGroupBy object at 0x00000039EB6D3A48>"
      ]
     },
     "execution_count": 7,
     "metadata": {},
     "output_type": "execute_result"
    }
   ],
   "source": [
    "# Suppose you wanted to compute the mean of the data1 column using the labels from key1. \n",
    "    #There are a number of ways to do this. \n",
    "    # One is to access data1 and call groupby with the column (a Series) at key1:\n",
    "\n",
    "grouped = df['data1'].groupby(df['key1'])\n",
    "grouped\n"
   ]
  },
  {
   "cell_type": "code",
   "execution_count": 16,
   "metadata": {},
   "outputs": [
    {
     "data": {
      "text/plain": [
       "key1\n",
       "a    3\n",
       "b    2\n",
       "Name: data1, dtype: int64"
      ]
     },
     "execution_count": 16,
     "metadata": {},
     "output_type": "execute_result"
    }
   ],
   "source": [
    "# This grouped variable is now a GroupBy object. It has not actually computed anything\n",
    "    # yet except for some intermediate data about the group key df['key1']. \n",
    "    # The idea is that this object has all of the information needed to then apply some operation to\n",
    "    # each of the groups. \n",
    "    # For example, to compute group size we can call the GroupBy’s size method:\n",
    "\n",
    "grouped.size()"
   ]
  },
  {
   "cell_type": "code",
   "execution_count": 17,
   "metadata": {},
   "outputs": [
    {
     "data": {
      "text/html": [
       "<div>\n",
       "<style scoped>\n",
       "    .dataframe tbody tr th:only-of-type {\n",
       "        vertical-align: middle;\n",
       "    }\n",
       "\n",
       "    .dataframe tbody tr th {\n",
       "        vertical-align: top;\n",
       "    }\n",
       "\n",
       "    .dataframe thead th {\n",
       "        text-align: right;\n",
       "    }\n",
       "</style>\n",
       "<table border=\"1\" class=\"dataframe\">\n",
       "  <thead>\n",
       "    <tr style=\"text-align: right;\">\n",
       "      <th></th>\n",
       "      <th>count</th>\n",
       "      <th>mean</th>\n",
       "      <th>std</th>\n",
       "      <th>min</th>\n",
       "      <th>25%</th>\n",
       "      <th>50%</th>\n",
       "      <th>75%</th>\n",
       "      <th>max</th>\n",
       "    </tr>\n",
       "    <tr>\n",
       "      <th>key1</th>\n",
       "      <th></th>\n",
       "      <th></th>\n",
       "      <th></th>\n",
       "      <th></th>\n",
       "      <th></th>\n",
       "      <th></th>\n",
       "      <th></th>\n",
       "      <th></th>\n",
       "    </tr>\n",
       "  </thead>\n",
       "  <tbody>\n",
       "    <tr>\n",
       "      <th>a</th>\n",
       "      <td>3.0</td>\n",
       "      <td>-0.260395</td>\n",
       "      <td>0.487502</td>\n",
       "      <td>-0.699511</td>\n",
       "      <td>-0.522687</td>\n",
       "      <td>-0.345863</td>\n",
       "      <td>-0.040837</td>\n",
       "      <td>0.264189</td>\n",
       "    </tr>\n",
       "    <tr>\n",
       "      <th>b</th>\n",
       "      <td>2.0</td>\n",
       "      <td>-1.473148</td>\n",
       "      <td>1.023328</td>\n",
       "      <td>-2.196750</td>\n",
       "      <td>-1.834949</td>\n",
       "      <td>-1.473148</td>\n",
       "      <td>-1.111347</td>\n",
       "      <td>-0.749546</td>\n",
       "    </tr>\n",
       "  </tbody>\n",
       "</table>\n",
       "</div>"
      ],
      "text/plain": [
       "      count      mean       std       min       25%       50%       75%  \\\n",
       "key1                                                                      \n",
       "a       3.0 -0.260395  0.487502 -0.699511 -0.522687 -0.345863 -0.040837   \n",
       "b       2.0 -1.473148  1.023328 -2.196750 -1.834949 -1.473148 -1.111347   \n",
       "\n",
       "           max  \n",
       "key1            \n",
       "a     0.264189  \n",
       "b    -0.749546  "
      ]
     },
     "execution_count": 17,
     "metadata": {},
     "output_type": "execute_result"
    }
   ],
   "source": [
    "# To compute group summary statistics we can call the GroupBy’s describe method:\n",
    "    \n",
    "grouped.describe()"
   ]
  },
  {
   "cell_type": "code",
   "execution_count": 19,
   "metadata": {},
   "outputs": [
    {
     "data": {
      "text/plain": [
       "key1\n",
       "a   -0.260395\n",
       "b   -1.473148\n",
       "Name: data1, dtype: float64"
      ]
     },
     "execution_count": 19,
     "metadata": {},
     "output_type": "execute_result"
    }
   ],
   "source": [
    "# To compute group means we can call the GroupBy’s mean method:\n",
    "    \n",
    "grouped.mean()"
   ]
  },
  {
   "cell_type": "code",
   "execution_count": 20,
   "metadata": {},
   "outputs": [
    {
     "data": {
      "text/plain": [
       "key1  key2\n",
       "a     one    -0.217661\n",
       "      two    -0.345863\n",
       "b     one    -0.749546\n",
       "      two    -2.196750\n",
       "Name: data1, dtype: float64"
      ]
     },
     "execution_count": 20,
     "metadata": {},
     "output_type": "execute_result"
    }
   ],
   "source": [
    "# Thus above, the data (a Series) has been aggregated according to the group key,\n",
    "    # producing a new Series that is now indexed by the unique values in the key1 column.\n",
    "    # The result index has the name 'key1' because the DataFrame column df['key1'] did.\n",
    "    # If instead we had passed multiple arrays as a list, we’d get something different:\n",
    "\n",
    "means = df['data1'].groupby([df['key1'], df['key2']]).mean()\n",
    "means"
   ]
  },
  {
   "cell_type": "code",
   "execution_count": 21,
   "metadata": {},
   "outputs": [
    {
     "data": {
      "text/plain": [
       "0  key1            a\n",
       "   key2          one\n",
       "   data1   -0.699511\n",
       "   data2   -0.388558\n",
       "1  key1            a\n",
       "   key2          two\n",
       "   data1   -0.345863\n",
       "   data2    0.535094\n",
       "2  key1            b\n",
       "   key2          one\n",
       "   data1   -0.749546\n",
       "   data2    -1.07171\n",
       "3  key1            b\n",
       "   key2          two\n",
       "   data1    -2.19675\n",
       "   data2    0.524351\n",
       "4  key1            a\n",
       "   key2          one\n",
       "   data1    0.264189\n",
       "   data2     2.62142\n",
       "dtype: object"
      ]
     },
     "execution_count": 21,
     "metadata": {},
     "output_type": "execute_result"
    }
   ],
   "source": [
    "df.stack()"
   ]
  },
  {
   "cell_type": "code",
   "execution_count": 22,
   "metadata": {},
   "outputs": [
    {
     "data": {
      "text/html": [
       "<div>\n",
       "<style scoped>\n",
       "    .dataframe tbody tr th:only-of-type {\n",
       "        vertical-align: middle;\n",
       "    }\n",
       "\n",
       "    .dataframe tbody tr th {\n",
       "        vertical-align: top;\n",
       "    }\n",
       "\n",
       "    .dataframe thead th {\n",
       "        text-align: right;\n",
       "    }\n",
       "</style>\n",
       "<table border=\"1\" class=\"dataframe\">\n",
       "  <thead>\n",
       "    <tr style=\"text-align: right;\">\n",
       "      <th></th>\n",
       "      <th>0</th>\n",
       "      <th>1</th>\n",
       "      <th>2</th>\n",
       "      <th>3</th>\n",
       "      <th>4</th>\n",
       "    </tr>\n",
       "  </thead>\n",
       "  <tbody>\n",
       "    <tr>\n",
       "      <th>key1</th>\n",
       "      <td>a</td>\n",
       "      <td>a</td>\n",
       "      <td>b</td>\n",
       "      <td>b</td>\n",
       "      <td>a</td>\n",
       "    </tr>\n",
       "    <tr>\n",
       "      <th>key2</th>\n",
       "      <td>one</td>\n",
       "      <td>two</td>\n",
       "      <td>one</td>\n",
       "      <td>two</td>\n",
       "      <td>one</td>\n",
       "    </tr>\n",
       "    <tr>\n",
       "      <th>data1</th>\n",
       "      <td>-0.699511</td>\n",
       "      <td>-0.345863</td>\n",
       "      <td>-0.749546</td>\n",
       "      <td>-2.19675</td>\n",
       "      <td>0.264189</td>\n",
       "    </tr>\n",
       "    <tr>\n",
       "      <th>data2</th>\n",
       "      <td>-0.388558</td>\n",
       "      <td>0.535094</td>\n",
       "      <td>-1.07171</td>\n",
       "      <td>0.524351</td>\n",
       "      <td>2.62142</td>\n",
       "    </tr>\n",
       "  </tbody>\n",
       "</table>\n",
       "</div>"
      ],
      "text/plain": [
       "              0         1         2         3         4\n",
       "key1          a         a         b         b         a\n",
       "key2        one       two       one       two       one\n",
       "data1 -0.699511 -0.345863 -0.749546  -2.19675  0.264189\n",
       "data2 -0.388558  0.535094  -1.07171  0.524351   2.62142"
      ]
     },
     "execution_count": 22,
     "metadata": {},
     "output_type": "execute_result"
    }
   ],
   "source": [
    "df.T"
   ]
  },
  {
   "cell_type": "code",
   "execution_count": 24,
   "metadata": {},
   "outputs": [
    {
     "data": {
      "text/html": [
       "<div>\n",
       "<style scoped>\n",
       "    .dataframe tbody tr th:only-of-type {\n",
       "        vertical-align: middle;\n",
       "    }\n",
       "\n",
       "    .dataframe tbody tr th {\n",
       "        vertical-align: top;\n",
       "    }\n",
       "\n",
       "    .dataframe thead th {\n",
       "        text-align: right;\n",
       "    }\n",
       "</style>\n",
       "<table border=\"1\" class=\"dataframe\">\n",
       "  <thead>\n",
       "    <tr style=\"text-align: right;\">\n",
       "      <th>key2</th>\n",
       "      <th>one</th>\n",
       "      <th>two</th>\n",
       "    </tr>\n",
       "    <tr>\n",
       "      <th>key1</th>\n",
       "      <th></th>\n",
       "      <th></th>\n",
       "    </tr>\n",
       "  </thead>\n",
       "  <tbody>\n",
       "    <tr>\n",
       "      <th>a</th>\n",
       "      <td>-0.217661</td>\n",
       "      <td>-0.345863</td>\n",
       "    </tr>\n",
       "    <tr>\n",
       "      <th>b</th>\n",
       "      <td>-0.749546</td>\n",
       "      <td>-2.196750</td>\n",
       "    </tr>\n",
       "  </tbody>\n",
       "</table>\n",
       "</div>"
      ],
      "text/plain": [
       "key2       one       two\n",
       "key1                    \n",
       "a    -0.217661 -0.345863\n",
       "b    -0.749546 -2.196750"
      ]
     },
     "execution_count": 24,
     "metadata": {},
     "output_type": "execute_result"
    }
   ],
   "source": [
    "# Here we grouped the data using two keys, and the resulting Series now has a hierarchical\n",
    "    # index consisting of the unique pairs of keys observed:\n",
    "    \n",
    "means.unstack()"
   ]
  },
  {
   "cell_type": "code",
   "execution_count": 25,
   "metadata": {},
   "outputs": [
    {
     "data": {
      "text/plain": [
       "California  2005   -0.345863\n",
       "            2006   -0.749546\n",
       "Ohio        2005   -1.448130\n",
       "            2006    0.264189\n",
       "Name: data1, dtype: float64"
      ]
     },
     "execution_count": 25,
     "metadata": {},
     "output_type": "execute_result"
    }
   ],
   "source": [
    "# In this example, the group keys are all Series, though they could be any arrays of the right length:\n",
    "\n",
    "states = np.array(['Ohio', 'California', 'California', 'Ohio', 'Ohio'])\n",
    "years = np.array([2005, 2005, 2006, 2005, 2006])\n",
    "df['data1'].groupby([states, years]).mean()"
   ]
  },
  {
   "cell_type": "code",
   "execution_count": 26,
   "metadata": {},
   "outputs": [
    {
     "data": {
      "text/html": [
       "<div>\n",
       "<style scoped>\n",
       "    .dataframe tbody tr th:only-of-type {\n",
       "        vertical-align: middle;\n",
       "    }\n",
       "\n",
       "    .dataframe tbody tr th {\n",
       "        vertical-align: top;\n",
       "    }\n",
       "\n",
       "    .dataframe thead th {\n",
       "        text-align: right;\n",
       "    }\n",
       "</style>\n",
       "<table border=\"1\" class=\"dataframe\">\n",
       "  <thead>\n",
       "    <tr style=\"text-align: right;\">\n",
       "      <th></th>\n",
       "      <th>data1</th>\n",
       "      <th>data2</th>\n",
       "    </tr>\n",
       "    <tr>\n",
       "      <th>key1</th>\n",
       "      <th></th>\n",
       "      <th></th>\n",
       "    </tr>\n",
       "  </thead>\n",
       "  <tbody>\n",
       "    <tr>\n",
       "      <th>a</th>\n",
       "      <td>-0.260395</td>\n",
       "      <td>0.922651</td>\n",
       "    </tr>\n",
       "    <tr>\n",
       "      <th>b</th>\n",
       "      <td>-1.473148</td>\n",
       "      <td>-0.273681</td>\n",
       "    </tr>\n",
       "  </tbody>\n",
       "</table>\n",
       "</div>"
      ],
      "text/plain": [
       "         data1     data2\n",
       "key1                    \n",
       "a    -0.260395  0.922651\n",
       "b    -1.473148 -0.273681"
      ]
     },
     "execution_count": 26,
     "metadata": {},
     "output_type": "execute_result"
    }
   ],
   "source": [
    "# Frequently the grouping information is found in the same DataFrame as the data you want to work on.\n",
    "    # In that case, you can pass column names (whether those are strings, numbers, or other Python objects)\n",
    "    # as the group keys:\n",
    "\n",
    "df.groupby('key1').mean()"
   ]
  },
  {
   "cell_type": "code",
   "execution_count": 27,
   "metadata": {},
   "outputs": [
    {
     "data": {
      "text/html": [
       "<div>\n",
       "<style scoped>\n",
       "    .dataframe tbody tr th:only-of-type {\n",
       "        vertical-align: middle;\n",
       "    }\n",
       "\n",
       "    .dataframe tbody tr th {\n",
       "        vertical-align: top;\n",
       "    }\n",
       "\n",
       "    .dataframe thead th {\n",
       "        text-align: right;\n",
       "    }\n",
       "</style>\n",
       "<table border=\"1\" class=\"dataframe\">\n",
       "  <thead>\n",
       "    <tr style=\"text-align: right;\">\n",
       "      <th></th>\n",
       "      <th></th>\n",
       "      <th>data1</th>\n",
       "      <th>data2</th>\n",
       "    </tr>\n",
       "    <tr>\n",
       "      <th>key1</th>\n",
       "      <th>key2</th>\n",
       "      <th></th>\n",
       "      <th></th>\n",
       "    </tr>\n",
       "  </thead>\n",
       "  <tbody>\n",
       "    <tr>\n",
       "      <th rowspan=\"2\" valign=\"top\">a</th>\n",
       "      <th>one</th>\n",
       "      <td>-0.217661</td>\n",
       "      <td>1.116430</td>\n",
       "    </tr>\n",
       "    <tr>\n",
       "      <th>two</th>\n",
       "      <td>-0.345863</td>\n",
       "      <td>0.535094</td>\n",
       "    </tr>\n",
       "    <tr>\n",
       "      <th rowspan=\"2\" valign=\"top\">b</th>\n",
       "      <th>one</th>\n",
       "      <td>-0.749546</td>\n",
       "      <td>-1.071714</td>\n",
       "    </tr>\n",
       "    <tr>\n",
       "      <th>two</th>\n",
       "      <td>-2.196750</td>\n",
       "      <td>0.524351</td>\n",
       "    </tr>\n",
       "  </tbody>\n",
       "</table>\n",
       "</div>"
      ],
      "text/plain": [
       "              data1     data2\n",
       "key1 key2                    \n",
       "a    one  -0.217661  1.116430\n",
       "     two  -0.345863  0.535094\n",
       "b    one  -0.749546 -1.071714\n",
       "     two  -2.196750  0.524351"
      ]
     },
     "execution_count": 27,
     "metadata": {},
     "output_type": "execute_result"
    }
   ],
   "source": [
    "df.groupby(['key1', 'key2']).mean()"
   ]
  },
  {
   "cell_type": "code",
   "execution_count": 28,
   "metadata": {},
   "outputs": [
    {
     "data": {
      "text/html": [
       "<div>\n",
       "<style scoped>\n",
       "    .dataframe tbody tr th:only-of-type {\n",
       "        vertical-align: middle;\n",
       "    }\n",
       "\n",
       "    .dataframe tbody tr th {\n",
       "        vertical-align: top;\n",
       "    }\n",
       "\n",
       "    .dataframe thead th {\n",
       "        text-align: right;\n",
       "    }\n",
       "</style>\n",
       "<table border=\"1\" class=\"dataframe\">\n",
       "  <thead>\n",
       "    <tr style=\"text-align: right;\">\n",
       "      <th></th>\n",
       "      <th></th>\n",
       "      <th>data1</th>\n",
       "      <th>data2</th>\n",
       "    </tr>\n",
       "    <tr>\n",
       "      <th>key1</th>\n",
       "      <th>key2</th>\n",
       "      <th></th>\n",
       "      <th></th>\n",
       "    </tr>\n",
       "  </thead>\n",
       "  <tbody>\n",
       "    <tr>\n",
       "      <th rowspan=\"2\" valign=\"top\">a</th>\n",
       "      <th>one</th>\n",
       "      <td>-0.217661</td>\n",
       "      <td>1.116430</td>\n",
       "    </tr>\n",
       "    <tr>\n",
       "      <th>two</th>\n",
       "      <td>-0.345863</td>\n",
       "      <td>0.535094</td>\n",
       "    </tr>\n",
       "    <tr>\n",
       "      <th rowspan=\"2\" valign=\"top\">b</th>\n",
       "      <th>one</th>\n",
       "      <td>-0.749546</td>\n",
       "      <td>-1.071714</td>\n",
       "    </tr>\n",
       "    <tr>\n",
       "      <th>two</th>\n",
       "      <td>-2.196750</td>\n",
       "      <td>0.524351</td>\n",
       "    </tr>\n",
       "  </tbody>\n",
       "</table>\n",
       "</div>"
      ],
      "text/plain": [
       "              data1     data2\n",
       "key1 key2                    \n",
       "a    one  -0.217661  1.116430\n",
       "     two  -0.345863  0.535094\n",
       "b    one  -0.749546 -1.071714\n",
       "     two  -2.196750  0.524351"
      ]
     },
     "execution_count": 28,
     "metadata": {},
     "output_type": "execute_result"
    }
   ],
   "source": [
    "df.groupby(['key1', 'key2']).mean()"
   ]
  },
  {
   "cell_type": "code",
   "execution_count": 29,
   "metadata": {},
   "outputs": [
    {
     "data": {
      "text/plain": [
       "key1  key2\n",
       "a     one     2\n",
       "      two     1\n",
       "b     one     1\n",
       "      two     1\n",
       "dtype: int64"
      ]
     },
     "execution_count": 29,
     "metadata": {},
     "output_type": "execute_result"
    }
   ],
   "source": [
    "# You may have noticed in the first case df.groupby('key1').mean() that there is no key2 column in the result. \n",
    "    # Because df['key2'] is not numeric data, it is said to be a nuisance column, \n",
    "    # which is therefore excluded from the result. \n",
    "    # By default, all of the numeric columns are aggregated, \n",
    "    # though it is possible to filter down to a subset, as you’ll see soon.\n",
    "    \n",
    "# Regardless of the objective in using groupby, a generally useful GroupBy method is size, \n",
    "    # which returns a Series containing group sizes:\n",
    "\n",
    "\n",
    "df.groupby(['key1', 'key2']).size()"
   ]
  },
  {
   "cell_type": "code",
   "execution_count": null,
   "metadata": {},
   "outputs": [],
   "source": [
    "# Take note that any missing values in a group key will be excluded from the result."
   ]
  },
  {
   "cell_type": "code",
   "execution_count": 30,
   "metadata": {},
   "outputs": [
    {
     "name": "stdout",
     "output_type": "stream",
     "text": [
      "a\n",
      "  key1 key2     data1     data2\n",
      "0    a  one -0.699511 -0.388558\n",
      "1    a  two -0.345863  0.535094\n",
      "4    a  one  0.264189  2.621417\n",
      "b\n",
      "  key1 key2     data1     data2\n",
      "2    b  one -0.749546 -1.071714\n",
      "3    b  two -2.196750  0.524351\n"
     ]
    }
   ],
   "source": [
    "# Iterating over the groups\n",
    "\n",
    "# The GroupBy object supports iteration, generating a sequence of 2-tuples containing\n",
    "    # the group name along with the chunk of data.\n",
    "\n",
    "for name, group in df.groupby('key1'):\n",
    "    print(name)\n",
    "    print(group)"
   ]
  },
  {
   "cell_type": "code",
   "execution_count": 31,
   "metadata": {},
   "outputs": [
    {
     "name": "stdout",
     "output_type": "stream",
     "text": [
      "('a', 'one')\n",
      "  key1 key2     data1     data2\n",
      "0    a  one -0.699511 -0.388558\n",
      "4    a  one  0.264189  2.621417\n",
      "('a', 'two')\n",
      "  key1 key2     data1     data2\n",
      "1    a  two -0.345863  0.535094\n",
      "('b', 'one')\n",
      "  key1 key2     data1     data2\n",
      "2    b  one -0.749546 -1.071714\n",
      "('b', 'two')\n",
      "  key1 key2    data1     data2\n",
      "3    b  two -2.19675  0.524351\n"
     ]
    }
   ],
   "source": [
    "# for multiple keys\n",
    "\n",
    "# In the case of multiple keys, the first element in the tuple will be a tuple of key values:\n",
    "\n",
    "for (k1, k2), group in df.groupby(['key1', 'key2']):\n",
    "    print((k1, k2))\n",
    "    print(group)"
   ]
  },
  {
   "cell_type": "code",
   "execution_count": 32,
   "metadata": {},
   "outputs": [
    {
     "data": {
      "text/plain": [
       "{'a':   key1 key2     data1     data2\n",
       " 0    a  one -0.699511 -0.388558\n",
       " 1    a  two -0.345863  0.535094\n",
       " 4    a  one  0.264189  2.621417,\n",
       " 'b':   key1 key2     data1     data2\n",
       " 2    b  one -0.749546 -1.071714\n",
       " 3    b  two -2.196750  0.524351}"
      ]
     },
     "execution_count": 32,
     "metadata": {},
     "output_type": "execute_result"
    }
   ],
   "source": [
    "# computing a dict of the data pieces as a one-liner\n",
    "\n",
    "# Of course, you can choose to do whatever you want with the pieces of data. \n",
    "    # A recipe you may find useful is computing a dict of the data pieces as a one-liner:\n",
    "\n",
    "pieces = dict(list(df.groupby('key1')))\n",
    "pieces"
   ]
  },
  {
   "cell_type": "code",
   "execution_count": 33,
   "metadata": {},
   "outputs": [
    {
     "data": {
      "text/html": [
       "<div>\n",
       "<style scoped>\n",
       "    .dataframe tbody tr th:only-of-type {\n",
       "        vertical-align: middle;\n",
       "    }\n",
       "\n",
       "    .dataframe tbody tr th {\n",
       "        vertical-align: top;\n",
       "    }\n",
       "\n",
       "    .dataframe thead th {\n",
       "        text-align: right;\n",
       "    }\n",
       "</style>\n",
       "<table border=\"1\" class=\"dataframe\">\n",
       "  <thead>\n",
       "    <tr style=\"text-align: right;\">\n",
       "      <th></th>\n",
       "      <th>key1</th>\n",
       "      <th>key2</th>\n",
       "      <th>data1</th>\n",
       "      <th>data2</th>\n",
       "    </tr>\n",
       "  </thead>\n",
       "  <tbody>\n",
       "    <tr>\n",
       "      <th>0</th>\n",
       "      <td>a</td>\n",
       "      <td>one</td>\n",
       "      <td>-0.699511</td>\n",
       "      <td>-0.388558</td>\n",
       "    </tr>\n",
       "    <tr>\n",
       "      <th>1</th>\n",
       "      <td>a</td>\n",
       "      <td>two</td>\n",
       "      <td>-0.345863</td>\n",
       "      <td>0.535094</td>\n",
       "    </tr>\n",
       "    <tr>\n",
       "      <th>4</th>\n",
       "      <td>a</td>\n",
       "      <td>one</td>\n",
       "      <td>0.264189</td>\n",
       "      <td>2.621417</td>\n",
       "    </tr>\n",
       "  </tbody>\n",
       "</table>\n",
       "</div>"
      ],
      "text/plain": [
       "  key1 key2     data1     data2\n",
       "0    a  one -0.699511 -0.388558\n",
       "1    a  two -0.345863  0.535094\n",
       "4    a  one  0.264189  2.621417"
      ]
     },
     "execution_count": 33,
     "metadata": {},
     "output_type": "execute_result"
    }
   ],
   "source": [
    "pieces['a']"
   ]
  },
  {
   "cell_type": "code",
   "execution_count": 34,
   "metadata": {},
   "outputs": [
    {
     "data": {
      "text/html": [
       "<div>\n",
       "<style scoped>\n",
       "    .dataframe tbody tr th:only-of-type {\n",
       "        vertical-align: middle;\n",
       "    }\n",
       "\n",
       "    .dataframe tbody tr th {\n",
       "        vertical-align: top;\n",
       "    }\n",
       "\n",
       "    .dataframe thead th {\n",
       "        text-align: right;\n",
       "    }\n",
       "</style>\n",
       "<table border=\"1\" class=\"dataframe\">\n",
       "  <thead>\n",
       "    <tr style=\"text-align: right;\">\n",
       "      <th></th>\n",
       "      <th>key1</th>\n",
       "      <th>key2</th>\n",
       "      <th>data1</th>\n",
       "      <th>data2</th>\n",
       "    </tr>\n",
       "  </thead>\n",
       "  <tbody>\n",
       "    <tr>\n",
       "      <th>2</th>\n",
       "      <td>b</td>\n",
       "      <td>one</td>\n",
       "      <td>-0.749546</td>\n",
       "      <td>-1.071714</td>\n",
       "    </tr>\n",
       "    <tr>\n",
       "      <th>3</th>\n",
       "      <td>b</td>\n",
       "      <td>two</td>\n",
       "      <td>-2.196750</td>\n",
       "      <td>0.524351</td>\n",
       "    </tr>\n",
       "  </tbody>\n",
       "</table>\n",
       "</div>"
      ],
      "text/plain": [
       "  key1 key2     data1     data2\n",
       "2    b  one -0.749546 -1.071714\n",
       "3    b  two -2.196750  0.524351"
      ]
     },
     "execution_count": 34,
     "metadata": {},
     "output_type": "execute_result"
    }
   ],
   "source": [
    "pieces['b']"
   ]
  },
  {
   "cell_type": "code",
   "execution_count": 35,
   "metadata": {},
   "outputs": [
    {
     "data": {
      "text/plain": [
       "key1      object\n",
       "key2      object\n",
       "data1    float64\n",
       "data2    float64\n",
       "dtype: object"
      ]
     },
     "execution_count": 35,
     "metadata": {},
     "output_type": "execute_result"
    }
   ],
   "source": [
    "# By default groupby groups on axis=0, but you can group on any of the other axes.\n",
    "    # For example, we could group the columns of our example df here by dtype like so:\n",
    "\n",
    "df.dtypes"
   ]
  },
  {
   "cell_type": "code",
   "execution_count": 38,
   "metadata": {},
   "outputs": [
    {
     "data": {
      "text/plain": [
       "<pandas.core.groupby.generic.DataFrameGroupBy object at 0x00000039F1B05448>"
      ]
     },
     "execution_count": 38,
     "metadata": {},
     "output_type": "execute_result"
    }
   ],
   "source": [
    "grouped1 = df.groupby(df.dtypes, axis=1)\n",
    "grouped1"
   ]
  },
  {
   "cell_type": "code",
   "execution_count": 39,
   "metadata": {},
   "outputs": [
    {
     "data": {
      "text/plain": [
       "float64    2\n",
       "object     2\n",
       "dtype: int64"
      ]
     },
     "execution_count": 39,
     "metadata": {},
     "output_type": "execute_result"
    }
   ],
   "source": [
    "grouped1.size()"
   ]
  },
  {
   "cell_type": "code",
   "execution_count": 40,
   "metadata": {},
   "outputs": [
    {
     "name": "stdout",
     "output_type": "stream",
     "text": [
      "a\n",
      "0   -0.699511\n",
      "1   -0.345863\n",
      "4    0.264189\n",
      "Name: data1, dtype: float64\n",
      "b\n",
      "2   -0.749546\n",
      "3   -2.196750\n",
      "Name: data1, dtype: float64\n"
     ]
    }
   ],
   "source": [
    "# We can print out the groups like so:\n",
    "\n",
    "for dtype, group in grouped:\n",
    "    print(dtype)\n",
    "    print(group)"
   ]
  },
  {
   "cell_type": "code",
   "execution_count": 41,
   "metadata": {},
   "outputs": [
    {
     "name": "stdout",
     "output_type": "stream",
     "text": [
      "float64\n",
      "      data1     data2\n",
      "0 -0.699511 -0.388558\n",
      "1 -0.345863  0.535094\n",
      "2 -0.749546 -1.071714\n",
      "3 -2.196750  0.524351\n",
      "4  0.264189  2.621417\n",
      "object\n",
      "  key1 key2\n",
      "0    a  one\n",
      "1    a  two\n",
      "2    b  one\n",
      "3    b  two\n",
      "4    a  one\n"
     ]
    }
   ],
   "source": [
    "for dtype, group in grouped1:\n",
    "    print(dtype)\n",
    "    print(group)"
   ]
  },
  {
   "cell_type": "code",
   "execution_count": 42,
   "metadata": {},
   "outputs": [
    {
     "data": {
      "text/plain": [
       "<pandas.core.groupby.generic.DataFrameGroupBy object at 0x00000039F1862808>"
      ]
     },
     "execution_count": 42,
     "metadata": {},
     "output_type": "execute_result"
    }
   ],
   "source": [
    "# Selecting a Column or Subset of Columns\n",
    "\n",
    "# Indexing a GroupBy object created from a DataFrame with a column name or array\n",
    "    # of column names has the effect of column subsetting for aggregation. \n",
    "\n",
    "# This means that:\n",
    "\n",
    "df.groupby('key1')['data1']\n",
    "df.groupby('key1')[['data2']]\n",
    "\n",
    "\n",
    "# are syntactic sugar for:\n",
    "\n",
    "\n",
    "df['data1'].groupby(df['key1'])\n",
    "df[['data2']].groupby(df['key1'])"
   ]
  },
  {
   "cell_type": "code",
   "execution_count": 43,
   "metadata": {},
   "outputs": [
    {
     "data": {
      "text/html": [
       "<div>\n",
       "<style scoped>\n",
       "    .dataframe tbody tr th:only-of-type {\n",
       "        vertical-align: middle;\n",
       "    }\n",
       "\n",
       "    .dataframe tbody tr th {\n",
       "        vertical-align: top;\n",
       "    }\n",
       "\n",
       "    .dataframe thead th {\n",
       "        text-align: right;\n",
       "    }\n",
       "</style>\n",
       "<table border=\"1\" class=\"dataframe\">\n",
       "  <thead>\n",
       "    <tr style=\"text-align: right;\">\n",
       "      <th></th>\n",
       "      <th></th>\n",
       "      <th>data2</th>\n",
       "    </tr>\n",
       "    <tr>\n",
       "      <th>key1</th>\n",
       "      <th>key2</th>\n",
       "      <th></th>\n",
       "    </tr>\n",
       "  </thead>\n",
       "  <tbody>\n",
       "    <tr>\n",
       "      <th rowspan=\"2\" valign=\"top\">a</th>\n",
       "      <th>one</th>\n",
       "      <td>1.116430</td>\n",
       "    </tr>\n",
       "    <tr>\n",
       "      <th>two</th>\n",
       "      <td>0.535094</td>\n",
       "    </tr>\n",
       "    <tr>\n",
       "      <th rowspan=\"2\" valign=\"top\">b</th>\n",
       "      <th>one</th>\n",
       "      <td>-1.071714</td>\n",
       "    </tr>\n",
       "    <tr>\n",
       "      <th>two</th>\n",
       "      <td>0.524351</td>\n",
       "    </tr>\n",
       "  </tbody>\n",
       "</table>\n",
       "</div>"
      ],
      "text/plain": [
       "              data2\n",
       "key1 key2          \n",
       "a    one   1.116430\n",
       "     two   0.535094\n",
       "b    one  -1.071714\n",
       "     two   0.524351"
      ]
     },
     "execution_count": 43,
     "metadata": {},
     "output_type": "execute_result"
    }
   ],
   "source": [
    "# Dataframes\n",
    "\n",
    "# Especially for large datasets, it may be desirable to aggregate only a few columns.\n",
    "    # For example, in the preceding dataset, to compute means for just the data2 column \n",
    "    # and get the result as a DataFrame, we could write:\n",
    "    \n",
    "df.groupby(['key1', 'key2'])[['data2']].mean()"
   ]
  },
  {
   "cell_type": "code",
   "execution_count": 45,
   "metadata": {},
   "outputs": [
    {
     "name": "stdout",
     "output_type": "stream",
     "text": [
      "<pandas.core.groupby.generic.SeriesGroupBy object at 0x00000039F1B0DB48>\n"
     ]
    },
    {
     "data": {
      "text/plain": [
       "key1  key2\n",
       "a     one     1.116430\n",
       "      two     0.535094\n",
       "b     one    -1.071714\n",
       "      two     0.524351\n",
       "Name: data2, dtype: float64"
      ]
     },
     "execution_count": 45,
     "metadata": {},
     "output_type": "execute_result"
    }
   ],
   "source": [
    "# Series\n",
    "\n",
    "# The object returned by this indexing operation is a grouped DataFrame if a list or\n",
    "    # array is passed or a grouped Series if only a single column name is passed as a scalar:\n",
    "\n",
    "s_grouped = df.groupby(['key1', 'key2'])['data2']\n",
    "print(s_grouped)\n",
    "s_grouped.mean()"
   ]
  },
  {
   "cell_type": "code",
   "execution_count": 48,
   "metadata": {},
   "outputs": [
    {
     "data": {
      "text/html": [
       "<div>\n",
       "<style scoped>\n",
       "    .dataframe tbody tr th:only-of-type {\n",
       "        vertical-align: middle;\n",
       "    }\n",
       "\n",
       "    .dataframe tbody tr th {\n",
       "        vertical-align: top;\n",
       "    }\n",
       "\n",
       "    .dataframe thead th {\n",
       "        text-align: right;\n",
       "    }\n",
       "</style>\n",
       "<table border=\"1\" class=\"dataframe\">\n",
       "  <thead>\n",
       "    <tr style=\"text-align: right;\">\n",
       "      <th></th>\n",
       "      <th>a</th>\n",
       "      <th>b</th>\n",
       "      <th>c</th>\n",
       "      <th>d</th>\n",
       "      <th>e</th>\n",
       "    </tr>\n",
       "  </thead>\n",
       "  <tbody>\n",
       "    <tr>\n",
       "      <th>Joe</th>\n",
       "      <td>0.061253</td>\n",
       "      <td>-0.219182</td>\n",
       "      <td>0.258375</td>\n",
       "      <td>-1.033663</td>\n",
       "      <td>-0.642642</td>\n",
       "    </tr>\n",
       "    <tr>\n",
       "      <th>Steve</th>\n",
       "      <td>0.818724</td>\n",
       "      <td>-0.025076</td>\n",
       "      <td>1.151003</td>\n",
       "      <td>0.089388</td>\n",
       "      <td>0.024214</td>\n",
       "    </tr>\n",
       "    <tr>\n",
       "      <th>Wes</th>\n",
       "      <td>1.197966</td>\n",
       "      <td>-0.412310</td>\n",
       "      <td>-1.040145</td>\n",
       "      <td>-1.106289</td>\n",
       "      <td>-0.742792</td>\n",
       "    </tr>\n",
       "    <tr>\n",
       "      <th>Jim</th>\n",
       "      <td>-0.044602</td>\n",
       "      <td>0.463223</td>\n",
       "      <td>1.254485</td>\n",
       "      <td>0.765563</td>\n",
       "      <td>0.906828</td>\n",
       "    </tr>\n",
       "    <tr>\n",
       "      <th>Travis</th>\n",
       "      <td>-0.681018</td>\n",
       "      <td>-0.420505</td>\n",
       "      <td>0.081755</td>\n",
       "      <td>0.707100</td>\n",
       "      <td>0.900215</td>\n",
       "    </tr>\n",
       "  </tbody>\n",
       "</table>\n",
       "</div>"
      ],
      "text/plain": [
       "               a         b         c         d         e\n",
       "Joe     0.061253 -0.219182  0.258375 -1.033663 -0.642642\n",
       "Steve   0.818724 -0.025076  1.151003  0.089388  0.024214\n",
       "Wes     1.197966 -0.412310 -1.040145 -1.106289 -0.742792\n",
       "Jim    -0.044602  0.463223  1.254485  0.765563  0.906828\n",
       "Travis -0.681018 -0.420505  0.081755  0.707100  0.900215"
      ]
     },
     "execution_count": 48,
     "metadata": {},
     "output_type": "execute_result"
    }
   ],
   "source": [
    "# Grouping with Dictionaries and Series\n",
    "\n",
    "# Grouping information may exist in a form other than an array. \n",
    "    # Let’s consider another example DataFrame:\n",
    "    \n",
    "people = pd.DataFrame(np.random.randn(5, 5),\n",
    "                      columns=['a', 'b', 'c', 'd', 'e'],\n",
    "                      index=['Joe', 'Steve', 'Wes', 'Jim', 'Travis'])\n",
    "\n",
    "people"
   ]
  },
  {
   "cell_type": "code",
   "execution_count": 49,
   "metadata": {},
   "outputs": [
    {
     "data": {
      "text/html": [
       "<div>\n",
       "<style scoped>\n",
       "    .dataframe tbody tr th:only-of-type {\n",
       "        vertical-align: middle;\n",
       "    }\n",
       "\n",
       "    .dataframe tbody tr th {\n",
       "        vertical-align: top;\n",
       "    }\n",
       "\n",
       "    .dataframe thead th {\n",
       "        text-align: right;\n",
       "    }\n",
       "</style>\n",
       "<table border=\"1\" class=\"dataframe\">\n",
       "  <thead>\n",
       "    <tr style=\"text-align: right;\">\n",
       "      <th></th>\n",
       "      <th>a</th>\n",
       "      <th>b</th>\n",
       "      <th>c</th>\n",
       "      <th>d</th>\n",
       "      <th>e</th>\n",
       "    </tr>\n",
       "  </thead>\n",
       "  <tbody>\n",
       "    <tr>\n",
       "      <th>Joe</th>\n",
       "      <td>0.061253</td>\n",
       "      <td>-0.219182</td>\n",
       "      <td>0.258375</td>\n",
       "      <td>-1.033663</td>\n",
       "      <td>-0.642642</td>\n",
       "    </tr>\n",
       "    <tr>\n",
       "      <th>Steve</th>\n",
       "      <td>0.818724</td>\n",
       "      <td>-0.025076</td>\n",
       "      <td>1.151003</td>\n",
       "      <td>0.089388</td>\n",
       "      <td>0.024214</td>\n",
       "    </tr>\n",
       "    <tr>\n",
       "      <th>Wes</th>\n",
       "      <td>1.197966</td>\n",
       "      <td>NaN</td>\n",
       "      <td>NaN</td>\n",
       "      <td>-1.106289</td>\n",
       "      <td>-0.742792</td>\n",
       "    </tr>\n",
       "    <tr>\n",
       "      <th>Jim</th>\n",
       "      <td>-0.044602</td>\n",
       "      <td>0.463223</td>\n",
       "      <td>1.254485</td>\n",
       "      <td>0.765563</td>\n",
       "      <td>0.906828</td>\n",
       "    </tr>\n",
       "    <tr>\n",
       "      <th>Travis</th>\n",
       "      <td>-0.681018</td>\n",
       "      <td>-0.420505</td>\n",
       "      <td>0.081755</td>\n",
       "      <td>0.707100</td>\n",
       "      <td>0.900215</td>\n",
       "    </tr>\n",
       "  </tbody>\n",
       "</table>\n",
       "</div>"
      ],
      "text/plain": [
       "               a         b         c         d         e\n",
       "Joe     0.061253 -0.219182  0.258375 -1.033663 -0.642642\n",
       "Steve   0.818724 -0.025076  1.151003  0.089388  0.024214\n",
       "Wes     1.197966       NaN       NaN -1.106289 -0.742792\n",
       "Jim    -0.044602  0.463223  1.254485  0.765563  0.906828\n",
       "Travis -0.681018 -0.420505  0.081755  0.707100  0.900215"
      ]
     },
     "execution_count": 49,
     "metadata": {},
     "output_type": "execute_result"
    }
   ],
   "source": [
    "people.iloc[2:3, [1, 2]] = np.nan # Add a few NA values\n",
    "people"
   ]
  },
  {
   "cell_type": "code",
   "execution_count": 52,
   "metadata": {},
   "outputs": [
    {
     "name": "stdout",
     "output_type": "stream",
     "text": [
      "               a         b         c         d         e\n",
      "Joe     0.061253 -0.219182  0.258375 -1.033663 -0.642642\n",
      "Steve   0.818724 -0.025076  1.151003  0.089388  0.024214\n",
      "Wes     1.197966       NaN       NaN -1.106289 -0.742792\n",
      "Jim    -0.044602  0.463223  1.254485  0.765563  0.906828\n",
      "Travis -0.681018 -0.420505  0.081755  0.707100  0.900215\n",
      "\n",
      "<pandas.core.groupby.generic.DataFrameGroupBy object at 0x00000039F1B6C348>\n"
     ]
    }
   ],
   "source": [
    "# Now, suppose I have a group correspondence for the columns and want to sum\n",
    "    # together the columns by group:\n",
    "\n",
    "mapping = {'a': 'red', 'b': 'red', 'c': 'blue', 'd': 'blue', 'e': 'red', 'f' : 'orange'}\n",
    "\n",
    "\n",
    "\n",
    "\n",
    "# Now, you could construct an array from this dict to pass to groupby, \n",
    "    # but instead we can just pass the dict (I included the key 'f' to highlight \n",
    "    # that unused grouping keys are OK):\n",
    "\n",
    "by_column = people.groupby(mapping, axis=1)\n",
    "\n",
    "print(people)\n",
    "print()\n",
    "print(by_column)"
   ]
  },
  {
   "cell_type": "code",
   "execution_count": 56,
   "metadata": {},
   "outputs": [
    {
     "name": "stdout",
     "output_type": "stream",
     "text": [
      "            blue       red\n",
      "Joe    -0.775288 -0.800571\n",
      "Steve   1.240391  0.817862\n",
      "Wes    -1.106289  0.455174\n",
      "Jim     2.020048  1.325449\n",
      "Travis  0.788855 -0.201309\n",
      "\n",
      "            blue       red\n",
      "Joe    -0.387644 -0.266857\n",
      "Steve   0.620196  0.272621\n",
      "Wes    -1.106289  0.227587\n",
      "Jim     1.010024  0.441816\n",
      "Travis  0.394428 -0.067103\n"
     ]
    }
   ],
   "source": [
    "print(by_column.sum())\n",
    "\n",
    "print()\n",
    "\n",
    "print(by_column.mean())"
   ]
  },
  {
   "cell_type": "code",
   "execution_count": 58,
   "metadata": {},
   "outputs": [
    {
     "data": {
      "text/plain": [
       "a       red\n",
       "b       red\n",
       "c      blue\n",
       "d      blue\n",
       "e       red\n",
       "f    orange\n",
       "dtype: object"
      ]
     },
     "execution_count": 58,
     "metadata": {},
     "output_type": "execute_result"
    }
   ],
   "source": [
    "# The same functionality holds for Series, which can be viewed as a fixed-size mapping:\n",
    "\n",
    "map_series = pd.Series(mapping)\n",
    "map_series"
   ]
  },
  {
   "cell_type": "code",
   "execution_count": 59,
   "metadata": {},
   "outputs": [
    {
     "data": {
      "text/html": [
       "<div>\n",
       "<style scoped>\n",
       "    .dataframe tbody tr th:only-of-type {\n",
       "        vertical-align: middle;\n",
       "    }\n",
       "\n",
       "    .dataframe tbody tr th {\n",
       "        vertical-align: top;\n",
       "    }\n",
       "\n",
       "    .dataframe thead th {\n",
       "        text-align: right;\n",
       "    }\n",
       "</style>\n",
       "<table border=\"1\" class=\"dataframe\">\n",
       "  <thead>\n",
       "    <tr style=\"text-align: right;\">\n",
       "      <th></th>\n",
       "      <th>blue</th>\n",
       "      <th>red</th>\n",
       "    </tr>\n",
       "  </thead>\n",
       "  <tbody>\n",
       "    <tr>\n",
       "      <th>Joe</th>\n",
       "      <td>2</td>\n",
       "      <td>3</td>\n",
       "    </tr>\n",
       "    <tr>\n",
       "      <th>Steve</th>\n",
       "      <td>2</td>\n",
       "      <td>3</td>\n",
       "    </tr>\n",
       "    <tr>\n",
       "      <th>Wes</th>\n",
       "      <td>1</td>\n",
       "      <td>2</td>\n",
       "    </tr>\n",
       "    <tr>\n",
       "      <th>Jim</th>\n",
       "      <td>2</td>\n",
       "      <td>3</td>\n",
       "    </tr>\n",
       "    <tr>\n",
       "      <th>Travis</th>\n",
       "      <td>2</td>\n",
       "      <td>3</td>\n",
       "    </tr>\n",
       "  </tbody>\n",
       "</table>\n",
       "</div>"
      ],
      "text/plain": [
       "        blue  red\n",
       "Joe        2    3\n",
       "Steve      2    3\n",
       "Wes        1    2\n",
       "Jim        2    3\n",
       "Travis     2    3"
      ]
     },
     "execution_count": 59,
     "metadata": {},
     "output_type": "execute_result"
    }
   ],
   "source": [
    "people.groupby(map_series, axis=1).count()"
   ]
  },
  {
   "cell_type": "code",
   "execution_count": 60,
   "metadata": {},
   "outputs": [
    {
     "data": {
      "text/html": [
       "<div>\n",
       "<style scoped>\n",
       "    .dataframe tbody tr th:only-of-type {\n",
       "        vertical-align: middle;\n",
       "    }\n",
       "\n",
       "    .dataframe tbody tr th {\n",
       "        vertical-align: top;\n",
       "    }\n",
       "\n",
       "    .dataframe thead th {\n",
       "        text-align: right;\n",
       "    }\n",
       "</style>\n",
       "<table border=\"1\" class=\"dataframe\">\n",
       "  <thead>\n",
       "    <tr style=\"text-align: right;\">\n",
       "      <th></th>\n",
       "      <th>a</th>\n",
       "      <th>b</th>\n",
       "      <th>c</th>\n",
       "      <th>d</th>\n",
       "      <th>e</th>\n",
       "    </tr>\n",
       "  </thead>\n",
       "  <tbody>\n",
       "    <tr>\n",
       "      <th>3</th>\n",
       "      <td>1.214617</td>\n",
       "      <td>0.244041</td>\n",
       "      <td>1.512859</td>\n",
       "      <td>-1.374389</td>\n",
       "      <td>-0.478606</td>\n",
       "    </tr>\n",
       "    <tr>\n",
       "      <th>5</th>\n",
       "      <td>0.818724</td>\n",
       "      <td>-0.025076</td>\n",
       "      <td>1.151003</td>\n",
       "      <td>0.089388</td>\n",
       "      <td>0.024214</td>\n",
       "    </tr>\n",
       "    <tr>\n",
       "      <th>6</th>\n",
       "      <td>-0.681018</td>\n",
       "      <td>-0.420505</td>\n",
       "      <td>0.081755</td>\n",
       "      <td>0.707100</td>\n",
       "      <td>0.900215</td>\n",
       "    </tr>\n",
       "  </tbody>\n",
       "</table>\n",
       "</div>"
      ],
      "text/plain": [
       "          a         b         c         d         e\n",
       "3  1.214617  0.244041  1.512859 -1.374389 -0.478606\n",
       "5  0.818724 -0.025076  1.151003  0.089388  0.024214\n",
       "6 -0.681018 -0.420505  0.081755  0.707100  0.900215"
      ]
     },
     "execution_count": 60,
     "metadata": {},
     "output_type": "execute_result"
    }
   ],
   "source": [
    "# Grouping with Functions\n",
    "\n",
    "# Using Python functions is a more generic way of defining a group mapping compared with a dict or Series.\n",
    "    # Any function passed as a group key will be called once per index value, \n",
    "    # with the return values being used as the group names. \n",
    "    # More concretely, consider the example DataFrame from the previous section, \n",
    "    # which has people’s first names as index values. \n",
    "    # Suppose you wanted to group by the length of the names;\n",
    "    # while you could compute an array of string lengths,\n",
    "    # it’s simpler to just pass the len function:\n",
    "\n",
    "people.groupby(len).sum()  # grouping by the length of the names"
   ]
  },
  {
   "cell_type": "code",
   "execution_count": 61,
   "metadata": {},
   "outputs": [
    {
     "data": {
      "text/html": [
       "<div>\n",
       "<style scoped>\n",
       "    .dataframe tbody tr th:only-of-type {\n",
       "        vertical-align: middle;\n",
       "    }\n",
       "\n",
       "    .dataframe tbody tr th {\n",
       "        vertical-align: top;\n",
       "    }\n",
       "\n",
       "    .dataframe thead th {\n",
       "        text-align: right;\n",
       "    }\n",
       "</style>\n",
       "<table border=\"1\" class=\"dataframe\">\n",
       "  <thead>\n",
       "    <tr style=\"text-align: right;\">\n",
       "      <th></th>\n",
       "      <th></th>\n",
       "      <th>a</th>\n",
       "      <th>b</th>\n",
       "      <th>c</th>\n",
       "      <th>d</th>\n",
       "      <th>e</th>\n",
       "    </tr>\n",
       "  </thead>\n",
       "  <tbody>\n",
       "    <tr>\n",
       "      <th rowspan=\"2\" valign=\"top\">3</th>\n",
       "      <th>one</th>\n",
       "      <td>0.061253</td>\n",
       "      <td>-0.219182</td>\n",
       "      <td>0.258375</td>\n",
       "      <td>-1.106289</td>\n",
       "      <td>-0.742792</td>\n",
       "    </tr>\n",
       "    <tr>\n",
       "      <th>two</th>\n",
       "      <td>-0.044602</td>\n",
       "      <td>0.463223</td>\n",
       "      <td>1.254485</td>\n",
       "      <td>0.765563</td>\n",
       "      <td>0.906828</td>\n",
       "    </tr>\n",
       "    <tr>\n",
       "      <th>5</th>\n",
       "      <th>one</th>\n",
       "      <td>0.818724</td>\n",
       "      <td>-0.025076</td>\n",
       "      <td>1.151003</td>\n",
       "      <td>0.089388</td>\n",
       "      <td>0.024214</td>\n",
       "    </tr>\n",
       "    <tr>\n",
       "      <th>6</th>\n",
       "      <th>two</th>\n",
       "      <td>-0.681018</td>\n",
       "      <td>-0.420505</td>\n",
       "      <td>0.081755</td>\n",
       "      <td>0.707100</td>\n",
       "      <td>0.900215</td>\n",
       "    </tr>\n",
       "  </tbody>\n",
       "</table>\n",
       "</div>"
      ],
      "text/plain": [
       "              a         b         c         d         e\n",
       "3 one  0.061253 -0.219182  0.258375 -1.106289 -0.742792\n",
       "  two -0.044602  0.463223  1.254485  0.765563  0.906828\n",
       "5 one  0.818724 -0.025076  1.151003  0.089388  0.024214\n",
       "6 two -0.681018 -0.420505  0.081755  0.707100  0.900215"
      ]
     },
     "execution_count": 61,
     "metadata": {},
     "output_type": "execute_result"
    }
   ],
   "source": [
    "# Mixing functions with arrays, dicts, or Series is not a problem as \n",
    "    # everything gets converted to arrays internally:\n",
    "\n",
    "key_list = ['one', 'one', 'one', 'two', 'two']\n",
    "people.groupby([len, key_list]).min()  # Mixing functions with arrays, dicts, or Series"
   ]
  },
  {
   "cell_type": "code",
   "execution_count": 67,
   "metadata": {},
   "outputs": [
    {
     "name": "stdout",
     "output_type": "stream",
     "text": [
      "MultiIndex([('US', 1),\n",
      "            ('US', 3),\n",
      "            ('US', 5),\n",
      "            ('JP', 1),\n",
      "            ('JP', 3)],\n",
      "           names=['cty', 'tenor'])\n",
      "\n",
      "\n",
      "cty          US                            JP          \n",
      "tenor         1         3         5         1         3\n",
      "0      1.173735 -0.159624  0.656455 -0.989766 -0.529011\n",
      "1      0.923138  0.036186  1.547744 -0.285430 -0.267631\n",
      "2      0.232222 -1.022996  0.478855 -1.479527  0.163846\n",
      "3     -0.574041  0.017466 -1.255832 -0.247150  0.242282\n"
     ]
    }
   ],
   "source": [
    "# Grouping by Index Levels\n",
    "\n",
    "# A final convenience for hierarchically indexed datasets is the ability to aggregate\n",
    "    # using one of the levels of an axis index. \n",
    "\n",
    "# Let’s look at an example:\n",
    "    \n",
    "    \n",
    "columns = pd.MultiIndex.from_arrays([['US', 'US', 'US', 'JP', 'JP'],\n",
    "    [1, 3, 5, 1, 3]],\n",
    "    names=['cty', 'tenor'])\n",
    "print(columns)\n",
    "\n",
    "print()\n",
    "print()\n",
    "\n",
    "hier_df = pd.DataFrame(np.random.randn(4, 5), columns=columns)\n",
    "print(hier_df)"
   ]
  },
  {
   "cell_type": "code",
   "execution_count": 68,
   "metadata": {},
   "outputs": [
    {
     "data": {
      "text/html": [
       "<div>\n",
       "<style scoped>\n",
       "    .dataframe tbody tr th:only-of-type {\n",
       "        vertical-align: middle;\n",
       "    }\n",
       "\n",
       "    .dataframe tbody tr th {\n",
       "        vertical-align: top;\n",
       "    }\n",
       "\n",
       "    .dataframe thead th {\n",
       "        text-align: right;\n",
       "    }\n",
       "</style>\n",
       "<table border=\"1\" class=\"dataframe\">\n",
       "  <thead>\n",
       "    <tr style=\"text-align: right;\">\n",
       "      <th>cty</th>\n",
       "      <th>JP</th>\n",
       "      <th>US</th>\n",
       "    </tr>\n",
       "  </thead>\n",
       "  <tbody>\n",
       "    <tr>\n",
       "      <th>0</th>\n",
       "      <td>2</td>\n",
       "      <td>3</td>\n",
       "    </tr>\n",
       "    <tr>\n",
       "      <th>1</th>\n",
       "      <td>2</td>\n",
       "      <td>3</td>\n",
       "    </tr>\n",
       "    <tr>\n",
       "      <th>2</th>\n",
       "      <td>2</td>\n",
       "      <td>3</td>\n",
       "    </tr>\n",
       "    <tr>\n",
       "      <th>3</th>\n",
       "      <td>2</td>\n",
       "      <td>3</td>\n",
       "    </tr>\n",
       "  </tbody>\n",
       "</table>\n",
       "</div>"
      ],
      "text/plain": [
       "cty  JP  US\n",
       "0     2   3\n",
       "1     2   3\n",
       "2     2   3\n",
       "3     2   3"
      ]
     },
     "execution_count": 68,
     "metadata": {},
     "output_type": "execute_result"
    }
   ],
   "source": [
    "# To group by level, pass the level number or name using the level keyword:\n",
    "\n",
    "hier_df.groupby(level='cty', axis=1).count()  "
   ]
  },
  {
   "cell_type": "code",
   "execution_count": 71,
   "metadata": {},
   "outputs": [
    {
     "data": {
      "text/html": [
       "<div>\n",
       "<style scoped>\n",
       "    .dataframe tbody tr th:only-of-type {\n",
       "        vertical-align: middle;\n",
       "    }\n",
       "\n",
       "    .dataframe tbody tr th {\n",
       "        vertical-align: top;\n",
       "    }\n",
       "\n",
       "    .dataframe thead th {\n",
       "        text-align: right;\n",
       "    }\n",
       "</style>\n",
       "<table border=\"1\" class=\"dataframe\">\n",
       "  <thead>\n",
       "    <tr style=\"text-align: right;\">\n",
       "      <th>tenor</th>\n",
       "      <th>1</th>\n",
       "      <th>3</th>\n",
       "      <th>5</th>\n",
       "    </tr>\n",
       "  </thead>\n",
       "  <tbody>\n",
       "    <tr>\n",
       "      <th>0</th>\n",
       "      <td>2</td>\n",
       "      <td>2</td>\n",
       "      <td>1</td>\n",
       "    </tr>\n",
       "    <tr>\n",
       "      <th>1</th>\n",
       "      <td>2</td>\n",
       "      <td>2</td>\n",
       "      <td>1</td>\n",
       "    </tr>\n",
       "    <tr>\n",
       "      <th>2</th>\n",
       "      <td>2</td>\n",
       "      <td>2</td>\n",
       "      <td>1</td>\n",
       "    </tr>\n",
       "    <tr>\n",
       "      <th>3</th>\n",
       "      <td>2</td>\n",
       "      <td>2</td>\n",
       "      <td>1</td>\n",
       "    </tr>\n",
       "  </tbody>\n",
       "</table>\n",
       "</div>"
      ],
      "text/plain": [
       "tenor  1  3  5\n",
       "0      2  2  1\n",
       "1      2  2  1\n",
       "2      2  2  1\n",
       "3      2  2  1"
      ]
     },
     "execution_count": 71,
     "metadata": {},
     "output_type": "execute_result"
    }
   ],
   "source": [
    "hier_df.groupby(level='tenor', axis=1).count()  "
   ]
  },
  {
   "cell_type": "code",
   "execution_count": 82,
   "metadata": {},
   "outputs": [
    {
     "data": {
      "text/html": [
       "<div>\n",
       "<style scoped>\n",
       "    .dataframe tbody tr th:only-of-type {\n",
       "        vertical-align: middle;\n",
       "    }\n",
       "\n",
       "    .dataframe tbody tr th {\n",
       "        vertical-align: top;\n",
       "    }\n",
       "\n",
       "    .dataframe thead th {\n",
       "        text-align: right;\n",
       "    }\n",
       "</style>\n",
       "<table border=\"1\" class=\"dataframe\">\n",
       "  <thead>\n",
       "    <tr style=\"text-align: right;\">\n",
       "      <th>cty</th>\n",
       "      <th>JP</th>\n",
       "      <th>US</th>\n",
       "    </tr>\n",
       "  </thead>\n",
       "  <tbody>\n",
       "    <tr>\n",
       "      <th>0</th>\n",
       "      <td>-0.759389</td>\n",
       "      <td>0.556855</td>\n",
       "    </tr>\n",
       "    <tr>\n",
       "      <th>1</th>\n",
       "      <td>-0.276530</td>\n",
       "      <td>0.835690</td>\n",
       "    </tr>\n",
       "    <tr>\n",
       "      <th>2</th>\n",
       "      <td>-0.657841</td>\n",
       "      <td>-0.103973</td>\n",
       "    </tr>\n",
       "    <tr>\n",
       "      <th>3</th>\n",
       "      <td>-0.002434</td>\n",
       "      <td>-0.604136</td>\n",
       "    </tr>\n",
       "  </tbody>\n",
       "</table>\n",
       "</div>"
      ],
      "text/plain": [
       "cty        JP        US\n",
       "0   -0.759389  0.556855\n",
       "1   -0.276530  0.835690\n",
       "2   -0.657841 -0.103973\n",
       "3   -0.002434 -0.604136"
      ]
     },
     "execution_count": 82,
     "metadata": {},
     "output_type": "execute_result"
    }
   ],
   "source": [
    "hier_df.groupby(level='cty', axis=1).mean() "
   ]
  },
  {
   "cell_type": "code",
   "execution_count": 83,
   "metadata": {},
   "outputs": [
    {
     "data": {
      "text/html": [
       "<div>\n",
       "<style scoped>\n",
       "    .dataframe tbody tr th:only-of-type {\n",
       "        vertical-align: middle;\n",
       "    }\n",
       "\n",
       "    .dataframe tbody tr th {\n",
       "        vertical-align: top;\n",
       "    }\n",
       "\n",
       "    .dataframe thead th {\n",
       "        text-align: right;\n",
       "    }\n",
       "</style>\n",
       "<table border=\"1\" class=\"dataframe\">\n",
       "  <thead>\n",
       "    <tr style=\"text-align: right;\">\n",
       "      <th>tenor</th>\n",
       "      <th>1</th>\n",
       "      <th>3</th>\n",
       "      <th>5</th>\n",
       "    </tr>\n",
       "  </thead>\n",
       "  <tbody>\n",
       "    <tr>\n",
       "      <th>0</th>\n",
       "      <td>0.091984</td>\n",
       "      <td>-0.344317</td>\n",
       "      <td>0.656455</td>\n",
       "    </tr>\n",
       "    <tr>\n",
       "      <th>1</th>\n",
       "      <td>0.318854</td>\n",
       "      <td>-0.115722</td>\n",
       "      <td>1.547744</td>\n",
       "    </tr>\n",
       "    <tr>\n",
       "      <th>2</th>\n",
       "      <td>-0.623652</td>\n",
       "      <td>-0.429575</td>\n",
       "      <td>0.478855</td>\n",
       "    </tr>\n",
       "    <tr>\n",
       "      <th>3</th>\n",
       "      <td>-0.410595</td>\n",
       "      <td>0.129874</td>\n",
       "      <td>-1.255832</td>\n",
       "    </tr>\n",
       "  </tbody>\n",
       "</table>\n",
       "</div>"
      ],
      "text/plain": [
       "tenor         1         3         5\n",
       "0      0.091984 -0.344317  0.656455\n",
       "1      0.318854 -0.115722  1.547744\n",
       "2     -0.623652 -0.429575  0.478855\n",
       "3     -0.410595  0.129874 -1.255832"
      ]
     },
     "execution_count": 83,
     "metadata": {},
     "output_type": "execute_result"
    }
   ],
   "source": [
    "hier_df.groupby(level='tenor', axis=1).mean()  "
   ]
  },
  {
   "cell_type": "code",
   "execution_count": 86,
   "metadata": {},
   "outputs": [
    {
     "data": {
      "text/html": [
       "<div>\n",
       "<style scoped>\n",
       "    .dataframe tbody tr th:only-of-type {\n",
       "        vertical-align: middle;\n",
       "    }\n",
       "\n",
       "    .dataframe tbody tr th {\n",
       "        vertical-align: top;\n",
       "    }\n",
       "\n",
       "    .dataframe thead th {\n",
       "        text-align: right;\n",
       "    }\n",
       "</style>\n",
       "<table border=\"1\" class=\"dataframe\">\n",
       "  <thead>\n",
       "    <tr style=\"text-align: right;\">\n",
       "      <th></th>\n",
       "      <th></th>\n",
       "      <th></th>\n",
       "      <th>count</th>\n",
       "      <th>mean</th>\n",
       "      <th>std</th>\n",
       "      <th>min</th>\n",
       "      <th>25%</th>\n",
       "      <th>50%</th>\n",
       "      <th>75%</th>\n",
       "      <th>max</th>\n",
       "    </tr>\n",
       "    <tr>\n",
       "      <th>cty</th>\n",
       "      <th>cty</th>\n",
       "      <th>tenor</th>\n",
       "      <th></th>\n",
       "      <th></th>\n",
       "      <th></th>\n",
       "      <th></th>\n",
       "      <th></th>\n",
       "      <th></th>\n",
       "      <th></th>\n",
       "      <th></th>\n",
       "    </tr>\n",
       "  </thead>\n",
       "  <tbody>\n",
       "    <tr>\n",
       "      <th rowspan=\"2\" valign=\"top\">JP</th>\n",
       "      <th rowspan=\"2\" valign=\"top\">JP</th>\n",
       "      <th>1</th>\n",
       "      <td>4.0</td>\n",
       "      <td>-0.750468</td>\n",
       "      <td>0.593964</td>\n",
       "      <td>-1.479527</td>\n",
       "      <td>-1.112206</td>\n",
       "      <td>-0.637598</td>\n",
       "      <td>-0.275860</td>\n",
       "      <td>-0.247150</td>\n",
       "    </tr>\n",
       "    <tr>\n",
       "      <th>3</th>\n",
       "      <td>4.0</td>\n",
       "      <td>-0.097629</td>\n",
       "      <td>0.364646</td>\n",
       "      <td>-0.529011</td>\n",
       "      <td>-0.332976</td>\n",
       "      <td>-0.051892</td>\n",
       "      <td>0.183455</td>\n",
       "      <td>0.242282</td>\n",
       "    </tr>\n",
       "    <tr>\n",
       "      <th rowspan=\"3\" valign=\"top\">US</th>\n",
       "      <th rowspan=\"3\" valign=\"top\">US</th>\n",
       "      <th>1</th>\n",
       "      <td>4.0</td>\n",
       "      <td>0.438763</td>\n",
       "      <td>0.783844</td>\n",
       "      <td>-0.574041</td>\n",
       "      <td>0.030656</td>\n",
       "      <td>0.577680</td>\n",
       "      <td>0.985787</td>\n",
       "      <td>1.173735</td>\n",
       "    </tr>\n",
       "    <tr>\n",
       "      <th>3</th>\n",
       "      <td>4.0</td>\n",
       "      <td>-0.282242</td>\n",
       "      <td>0.501655</td>\n",
       "      <td>-1.022996</td>\n",
       "      <td>-0.375467</td>\n",
       "      <td>-0.071079</td>\n",
       "      <td>0.022146</td>\n",
       "      <td>0.036186</td>\n",
       "    </tr>\n",
       "    <tr>\n",
       "      <th>5</th>\n",
       "      <td>4.0</td>\n",
       "      <td>0.356805</td>\n",
       "      <td>1.172408</td>\n",
       "      <td>-1.255832</td>\n",
       "      <td>0.045183</td>\n",
       "      <td>0.567655</td>\n",
       "      <td>0.879277</td>\n",
       "      <td>1.547744</td>\n",
       "    </tr>\n",
       "  </tbody>\n",
       "</table>\n",
       "</div>"
      ],
      "text/plain": [
       "               count      mean       std       min       25%       50%  \\\n",
       "cty cty tenor                                                            \n",
       "JP  JP  1        4.0 -0.750468  0.593964 -1.479527 -1.112206 -0.637598   \n",
       "        3        4.0 -0.097629  0.364646 -0.529011 -0.332976 -0.051892   \n",
       "US  US  1        4.0  0.438763  0.783844 -0.574041  0.030656  0.577680   \n",
       "        3        4.0 -0.282242  0.501655 -1.022996 -0.375467 -0.071079   \n",
       "        5        4.0  0.356805  1.172408 -1.255832  0.045183  0.567655   \n",
       "\n",
       "                    75%       max  \n",
       "cty cty tenor                      \n",
       "JP  JP  1     -0.275860 -0.247150  \n",
       "        3      0.183455  0.242282  \n",
       "US  US  1      0.985787  1.173735  \n",
       "        3      0.022146  0.036186  \n",
       "        5      0.879277  1.547744  "
      ]
     },
     "execution_count": 86,
     "metadata": {},
     "output_type": "execute_result"
    }
   ],
   "source": [
    "hier_df.groupby(level='cty', axis=1).describe()  "
   ]
  },
  {
   "cell_type": "code",
   "execution_count": 87,
   "metadata": {},
   "outputs": [
    {
     "data": {
      "text/html": [
       "<div>\n",
       "<style scoped>\n",
       "    .dataframe tbody tr th:only-of-type {\n",
       "        vertical-align: middle;\n",
       "    }\n",
       "\n",
       "    .dataframe tbody tr th {\n",
       "        vertical-align: top;\n",
       "    }\n",
       "\n",
       "    .dataframe thead th {\n",
       "        text-align: right;\n",
       "    }\n",
       "</style>\n",
       "<table border=\"1\" class=\"dataframe\">\n",
       "  <thead>\n",
       "    <tr style=\"text-align: right;\">\n",
       "      <th></th>\n",
       "      <th></th>\n",
       "      <th></th>\n",
       "      <th>count</th>\n",
       "      <th>mean</th>\n",
       "      <th>std</th>\n",
       "      <th>min</th>\n",
       "      <th>25%</th>\n",
       "      <th>50%</th>\n",
       "      <th>75%</th>\n",
       "      <th>max</th>\n",
       "    </tr>\n",
       "    <tr>\n",
       "      <th>tenor</th>\n",
       "      <th>cty</th>\n",
       "      <th>tenor</th>\n",
       "      <th></th>\n",
       "      <th></th>\n",
       "      <th></th>\n",
       "      <th></th>\n",
       "      <th></th>\n",
       "      <th></th>\n",
       "      <th></th>\n",
       "      <th></th>\n",
       "    </tr>\n",
       "  </thead>\n",
       "  <tbody>\n",
       "    <tr>\n",
       "      <th rowspan=\"2\" valign=\"top\">1</th>\n",
       "      <th>US</th>\n",
       "      <th>1</th>\n",
       "      <td>4.0</td>\n",
       "      <td>0.438763</td>\n",
       "      <td>0.783844</td>\n",
       "      <td>-0.574041</td>\n",
       "      <td>0.030656</td>\n",
       "      <td>0.577680</td>\n",
       "      <td>0.985787</td>\n",
       "      <td>1.173735</td>\n",
       "    </tr>\n",
       "    <tr>\n",
       "      <th>JP</th>\n",
       "      <th>1</th>\n",
       "      <td>4.0</td>\n",
       "      <td>-0.750468</td>\n",
       "      <td>0.593964</td>\n",
       "      <td>-1.479527</td>\n",
       "      <td>-1.112206</td>\n",
       "      <td>-0.637598</td>\n",
       "      <td>-0.275860</td>\n",
       "      <td>-0.247150</td>\n",
       "    </tr>\n",
       "    <tr>\n",
       "      <th rowspan=\"2\" valign=\"top\">3</th>\n",
       "      <th>US</th>\n",
       "      <th>3</th>\n",
       "      <td>4.0</td>\n",
       "      <td>-0.282242</td>\n",
       "      <td>0.501655</td>\n",
       "      <td>-1.022996</td>\n",
       "      <td>-0.375467</td>\n",
       "      <td>-0.071079</td>\n",
       "      <td>0.022146</td>\n",
       "      <td>0.036186</td>\n",
       "    </tr>\n",
       "    <tr>\n",
       "      <th>JP</th>\n",
       "      <th>3</th>\n",
       "      <td>4.0</td>\n",
       "      <td>-0.097629</td>\n",
       "      <td>0.364646</td>\n",
       "      <td>-0.529011</td>\n",
       "      <td>-0.332976</td>\n",
       "      <td>-0.051892</td>\n",
       "      <td>0.183455</td>\n",
       "      <td>0.242282</td>\n",
       "    </tr>\n",
       "    <tr>\n",
       "      <th>5</th>\n",
       "      <th>US</th>\n",
       "      <th>5</th>\n",
       "      <td>4.0</td>\n",
       "      <td>0.356805</td>\n",
       "      <td>1.172408</td>\n",
       "      <td>-1.255832</td>\n",
       "      <td>0.045183</td>\n",
       "      <td>0.567655</td>\n",
       "      <td>0.879277</td>\n",
       "      <td>1.547744</td>\n",
       "    </tr>\n",
       "  </tbody>\n",
       "</table>\n",
       "</div>"
      ],
      "text/plain": [
       "                 count      mean       std       min       25%       50%  \\\n",
       "tenor cty tenor                                                            \n",
       "1     US  1        4.0  0.438763  0.783844 -0.574041  0.030656  0.577680   \n",
       "      JP  1        4.0 -0.750468  0.593964 -1.479527 -1.112206 -0.637598   \n",
       "3     US  3        4.0 -0.282242  0.501655 -1.022996 -0.375467 -0.071079   \n",
       "      JP  3        4.0 -0.097629  0.364646 -0.529011 -0.332976 -0.051892   \n",
       "5     US  5        4.0  0.356805  1.172408 -1.255832  0.045183  0.567655   \n",
       "\n",
       "                      75%       max  \n",
       "tenor cty tenor                      \n",
       "1     US  1      0.985787  1.173735  \n",
       "      JP  1     -0.275860 -0.247150  \n",
       "3     US  3      0.022146  0.036186  \n",
       "      JP  3      0.183455  0.242282  \n",
       "5     US  5      0.879277  1.547744  "
      ]
     },
     "execution_count": 87,
     "metadata": {},
     "output_type": "execute_result"
    }
   ],
   "source": [
    "hier_df.groupby(level='tenor', axis=1).describe()  "
   ]
  },
  {
   "cell_type": "code",
   "execution_count": null,
   "metadata": {},
   "outputs": [],
   "source": [
    "# Data Aggregation\n",
    "\n",
    "# Aggregations refer to any data transformation that produces scalar values from arrays. \n",
    "    # The preceding examples have used several of them, including mean, count, min, and sum.\n",
    "    # You may wonder what is going on when you invoke mean() on a GroupBy object. \n",
    "    # Many common aggregations, such as those found in Table 10-1, have optimized implementations.\n",
    "    # However, you are not limited to only this set of methods.\n",
    "\n",
    "# Optimized groupby methods: \n",
    "    \n",
    "      #     Function name          Description\n",
    "            \n",
    "      #      count                  Number of non-NA values in the group\n",
    "      #      sum                    Sum of non-NA values\n",
    "      #      mean                   Mean of non-NA values\n",
    "      #      median                 Arithmetic median of non-NA values\n",
    "      #      std, var               Unbiased (n – 1 denominator) standard deviation and variance\n",
    "      #      min, max               Minimum and maximum of non-NA values prod Product of non-NA values\n",
    "      #      first, last            First and last non-NA values\n",
    "\n",
    "# You can use aggregations of your own devising and additionally call any method that\n",
    "    # is also defined on the grouped object. For example, you might recall that quantile\n",
    "    # computes sample quantiles of a Series or a DataFrame’s columns.\n",
    "\n",
    "    # While quantile is not explicitly implemented for GroupBy, it is a Series method and\n",
    "    # thus available for use. Internally, GroupBy efficiently slices up the Series, \n",
    "    # calls piece.quantile(0.9) for each piece, \n",
    "    # and then assembles those results together into the result object."
   ]
  },
  {
   "cell_type": "code",
   "execution_count": 88,
   "metadata": {},
   "outputs": [
    {
     "data": {
      "text/html": [
       "<div>\n",
       "<style scoped>\n",
       "    .dataframe tbody tr th:only-of-type {\n",
       "        vertical-align: middle;\n",
       "    }\n",
       "\n",
       "    .dataframe tbody tr th {\n",
       "        vertical-align: top;\n",
       "    }\n",
       "\n",
       "    .dataframe thead th {\n",
       "        text-align: right;\n",
       "    }\n",
       "</style>\n",
       "<table border=\"1\" class=\"dataframe\">\n",
       "  <thead>\n",
       "    <tr style=\"text-align: right;\">\n",
       "      <th></th>\n",
       "      <th>key1</th>\n",
       "      <th>key2</th>\n",
       "      <th>data1</th>\n",
       "      <th>data2</th>\n",
       "    </tr>\n",
       "  </thead>\n",
       "  <tbody>\n",
       "    <tr>\n",
       "      <th>0</th>\n",
       "      <td>a</td>\n",
       "      <td>one</td>\n",
       "      <td>-0.699511</td>\n",
       "      <td>-0.388558</td>\n",
       "    </tr>\n",
       "    <tr>\n",
       "      <th>1</th>\n",
       "      <td>a</td>\n",
       "      <td>two</td>\n",
       "      <td>-0.345863</td>\n",
       "      <td>0.535094</td>\n",
       "    </tr>\n",
       "    <tr>\n",
       "      <th>2</th>\n",
       "      <td>b</td>\n",
       "      <td>one</td>\n",
       "      <td>-0.749546</td>\n",
       "      <td>-1.071714</td>\n",
       "    </tr>\n",
       "    <tr>\n",
       "      <th>3</th>\n",
       "      <td>b</td>\n",
       "      <td>two</td>\n",
       "      <td>-2.196750</td>\n",
       "      <td>0.524351</td>\n",
       "    </tr>\n",
       "    <tr>\n",
       "      <th>4</th>\n",
       "      <td>a</td>\n",
       "      <td>one</td>\n",
       "      <td>0.264189</td>\n",
       "      <td>2.621417</td>\n",
       "    </tr>\n",
       "  </tbody>\n",
       "</table>\n",
       "</div>"
      ],
      "text/plain": [
       "  key1 key2     data1     data2\n",
       "0    a  one -0.699511 -0.388558\n",
       "1    a  two -0.345863  0.535094\n",
       "2    b  one -0.749546 -1.071714\n",
       "3    b  two -2.196750  0.524351\n",
       "4    a  one  0.264189  2.621417"
      ]
     },
     "execution_count": 88,
     "metadata": {},
     "output_type": "execute_result"
    }
   ],
   "source": [
    "df"
   ]
  },
  {
   "cell_type": "code",
   "execution_count": 91,
   "metadata": {},
   "outputs": [
    {
     "data": {
      "text/plain": [
       "<pandas.core.groupby.generic.DataFrameGroupBy object at 0x00000039F2156C08>"
      ]
     },
     "execution_count": 91,
     "metadata": {},
     "output_type": "execute_result"
    }
   ],
   "source": [
    "grouped = df.groupby('key1')\n",
    "grouped"
   ]
  },
  {
   "cell_type": "code",
   "execution_count": 92,
   "metadata": {},
   "outputs": [
    {
     "data": {
      "text/plain": [
       "key1\n",
       "a    0.142179\n",
       "b   -0.894266\n",
       "Name: data1, dtype: float64"
      ]
     },
     "execution_count": 92,
     "metadata": {},
     "output_type": "execute_result"
    }
   ],
   "source": [
    "grouped['data1'].quantile(0.9)"
   ]
  },
  {
   "cell_type": "code",
   "execution_count": 98,
   "metadata": {},
   "outputs": [
    {
     "data": {
      "text/html": [
       "<div>\n",
       "<style scoped>\n",
       "    .dataframe tbody tr th:only-of-type {\n",
       "        vertical-align: middle;\n",
       "    }\n",
       "\n",
       "    .dataframe tbody tr th {\n",
       "        vertical-align: top;\n",
       "    }\n",
       "\n",
       "    .dataframe thead th {\n",
       "        text-align: right;\n",
       "    }\n",
       "</style>\n",
       "<table border=\"1\" class=\"dataframe\">\n",
       "  <thead>\n",
       "    <tr style=\"text-align: right;\">\n",
       "      <th></th>\n",
       "      <th>data1</th>\n",
       "      <th>data2</th>\n",
       "    </tr>\n",
       "  </thead>\n",
       "  <tbody>\n",
       "    <tr>\n",
       "      <th>0</th>\n",
       "      <td>-0.715645</td>\n",
       "      <td>0.823377</td>\n",
       "    </tr>\n",
       "    <tr>\n",
       "      <th>1</th>\n",
       "      <td>0.715335</td>\n",
       "      <td>-1.178312</td>\n",
       "    </tr>\n",
       "    <tr>\n",
       "      <th>2</th>\n",
       "      <td>-1.191247</td>\n",
       "      <td>0.205116</td>\n",
       "    </tr>\n",
       "    <tr>\n",
       "      <th>3</th>\n",
       "      <td>0.059871</td>\n",
       "      <td>1.524632</td>\n",
       "    </tr>\n",
       "    <tr>\n",
       "      <th>4</th>\n",
       "      <td>0.473645</td>\n",
       "      <td>0.742339</td>\n",
       "    </tr>\n",
       "    <tr>\n",
       "      <th>...</th>\n",
       "      <td>...</td>\n",
       "      <td>...</td>\n",
       "    </tr>\n",
       "    <tr>\n",
       "      <th>995</th>\n",
       "      <td>0.003551</td>\n",
       "      <td>0.153862</td>\n",
       "    </tr>\n",
       "    <tr>\n",
       "      <th>996</th>\n",
       "      <td>-0.001380</td>\n",
       "      <td>0.987662</td>\n",
       "    </tr>\n",
       "    <tr>\n",
       "      <th>997</th>\n",
       "      <td>-0.193659</td>\n",
       "      <td>-0.668325</td>\n",
       "    </tr>\n",
       "    <tr>\n",
       "      <th>998</th>\n",
       "      <td>-1.016595</td>\n",
       "      <td>-0.978162</td>\n",
       "    </tr>\n",
       "    <tr>\n",
       "      <th>999</th>\n",
       "      <td>-2.840384</td>\n",
       "      <td>-0.171102</td>\n",
       "    </tr>\n",
       "  </tbody>\n",
       "</table>\n",
       "<p>1000 rows × 2 columns</p>\n",
       "</div>"
      ],
      "text/plain": [
       "        data1     data2\n",
       "0   -0.715645  0.823377\n",
       "1    0.715335 -1.178312\n",
       "2   -1.191247  0.205116\n",
       "3    0.059871  1.524632\n",
       "4    0.473645  0.742339\n",
       "..        ...       ...\n",
       "995  0.003551  0.153862\n",
       "996 -0.001380  0.987662\n",
       "997 -0.193659 -0.668325\n",
       "998 -1.016595 -0.978162\n",
       "999 -2.840384 -0.171102\n",
       "\n",
       "[1000 rows x 2 columns]"
      ]
     },
     "execution_count": 98,
     "metadata": {},
     "output_type": "execute_result"
    }
   ],
   "source": [
    "# Quantile and Bucket Analysis\n",
    "\n",
    "# Pandas has some tools, in particular cut and qcut,\n",
    "    # for slicing data up into buckets with bins of your choosing or by sample quantiles.\n",
    "    # Combining these functions with groupby makes it convenient to perform bucket \n",
    "    # or quantile analysis on a dataset.\n",
    "\n",
    "# Consider a simple random dataset and an equal-length bucket categorization using cut:\n",
    "\n",
    "\n",
    "frame = pd.DataFrame({'data1': np.random.randn(1000),\n",
    "    'data2': np.random.randn(1000)})\n",
    "frame"
   ]
  },
  {
   "cell_type": "code",
   "execution_count": 99,
   "metadata": {},
   "outputs": [
    {
     "name": "stdout",
     "output_type": "stream",
     "text": [
      "        data1     data2\n",
      "0   -0.715645  0.823377\n",
      "1    0.715335 -1.178312\n",
      "2   -1.191247  0.205116\n",
      "3    0.059871  1.524632\n",
      "4    0.473645  0.742339\n",
      "..        ...       ...\n",
      "995  0.003551  0.153862\n",
      "996 -0.001380  0.987662\n",
      "997 -0.193659 -0.668325\n",
      "998 -1.016595 -0.978162\n",
      "999 -2.840384 -0.171102\n",
      "\n",
      "[1000 rows x 2 columns]\n"
     ]
    }
   ],
   "source": [
    "print(frame)"
   ]
  },
  {
   "cell_type": "code",
   "execution_count": 100,
   "metadata": {},
   "outputs": [
    {
     "data": {
      "text/plain": [
       "data1  0     -0.715645\n",
       "       1      0.715335\n",
       "       2     -1.191247\n",
       "       3      0.059871\n",
       "       4      0.473645\n",
       "                ...   \n",
       "data2  995    0.153862\n",
       "       996    0.987662\n",
       "       997   -0.668325\n",
       "       998   -0.978162\n",
       "       999   -0.171102\n",
       "Length: 2000, dtype: float64"
      ]
     },
     "execution_count": 100,
     "metadata": {},
     "output_type": "execute_result"
    }
   ],
   "source": [
    "frame.unstack()"
   ]
  },
  {
   "cell_type": "code",
   "execution_count": 102,
   "metadata": {},
   "outputs": [
    {
     "data": {
      "text/html": [
       "<div>\n",
       "<style scoped>\n",
       "    .dataframe tbody tr th:only-of-type {\n",
       "        vertical-align: middle;\n",
       "    }\n",
       "\n",
       "    .dataframe tbody tr th {\n",
       "        vertical-align: top;\n",
       "    }\n",
       "\n",
       "    .dataframe thead th {\n",
       "        text-align: right;\n",
       "    }\n",
       "</style>\n",
       "<table border=\"1\" class=\"dataframe\">\n",
       "  <thead>\n",
       "    <tr style=\"text-align: right;\">\n",
       "      <th></th>\n",
       "      <th>0</th>\n",
       "      <th>1</th>\n",
       "      <th>2</th>\n",
       "      <th>3</th>\n",
       "      <th>4</th>\n",
       "      <th>5</th>\n",
       "      <th>6</th>\n",
       "      <th>7</th>\n",
       "      <th>8</th>\n",
       "      <th>9</th>\n",
       "      <th>...</th>\n",
       "      <th>990</th>\n",
       "      <th>991</th>\n",
       "      <th>992</th>\n",
       "      <th>993</th>\n",
       "      <th>994</th>\n",
       "      <th>995</th>\n",
       "      <th>996</th>\n",
       "      <th>997</th>\n",
       "      <th>998</th>\n",
       "      <th>999</th>\n",
       "    </tr>\n",
       "  </thead>\n",
       "  <tbody>\n",
       "    <tr>\n",
       "      <th>data1</th>\n",
       "      <td>-0.715645</td>\n",
       "      <td>0.715335</td>\n",
       "      <td>-1.191247</td>\n",
       "      <td>0.059871</td>\n",
       "      <td>0.473645</td>\n",
       "      <td>-0.776308</td>\n",
       "      <td>-0.048923</td>\n",
       "      <td>-0.714903</td>\n",
       "      <td>-2.333673</td>\n",
       "      <td>0.757045</td>\n",
       "      <td>...</td>\n",
       "      <td>-1.165093</td>\n",
       "      <td>-1.101957</td>\n",
       "      <td>-1.852790</td>\n",
       "      <td>-1.835809</td>\n",
       "      <td>-0.816635</td>\n",
       "      <td>0.003551</td>\n",
       "      <td>-0.001380</td>\n",
       "      <td>-0.193659</td>\n",
       "      <td>-1.016595</td>\n",
       "      <td>-2.840384</td>\n",
       "    </tr>\n",
       "    <tr>\n",
       "      <th>data2</th>\n",
       "      <td>0.823377</td>\n",
       "      <td>-1.178312</td>\n",
       "      <td>0.205116</td>\n",
       "      <td>1.524632</td>\n",
       "      <td>0.742339</td>\n",
       "      <td>1.582948</td>\n",
       "      <td>-0.755365</td>\n",
       "      <td>-0.086841</td>\n",
       "      <td>0.493205</td>\n",
       "      <td>-0.328438</td>\n",
       "      <td>...</td>\n",
       "      <td>0.739011</td>\n",
       "      <td>0.207611</td>\n",
       "      <td>-0.569743</td>\n",
       "      <td>1.005317</td>\n",
       "      <td>-0.899069</td>\n",
       "      <td>0.153862</td>\n",
       "      <td>0.987662</td>\n",
       "      <td>-0.668325</td>\n",
       "      <td>-0.978162</td>\n",
       "      <td>-0.171102</td>\n",
       "    </tr>\n",
       "  </tbody>\n",
       "</table>\n",
       "<p>2 rows × 1000 columns</p>\n",
       "</div>"
      ],
      "text/plain": [
       "            0         1         2         3         4         5         6    \\\n",
       "data1 -0.715645  0.715335 -1.191247  0.059871  0.473645 -0.776308 -0.048923   \n",
       "data2  0.823377 -1.178312  0.205116  1.524632  0.742339  1.582948 -0.755365   \n",
       "\n",
       "            7         8         9    ...       990       991       992  \\\n",
       "data1 -0.714903 -2.333673  0.757045  ... -1.165093 -1.101957 -1.852790   \n",
       "data2 -0.086841  0.493205 -0.328438  ...  0.739011  0.207611 -0.569743   \n",
       "\n",
       "            993       994       995       996       997       998       999  \n",
       "data1 -1.835809 -0.816635  0.003551 -0.001380 -0.193659 -1.016595 -2.840384  \n",
       "data2  1.005317 -0.899069  0.153862  0.987662 -0.668325 -0.978162 -0.171102  \n",
       "\n",
       "[2 rows x 1000 columns]"
      ]
     },
     "execution_count": 102,
     "metadata": {},
     "output_type": "execute_result"
    }
   ],
   "source": [
    "frame.T"
   ]
  },
  {
   "cell_type": "code",
   "execution_count": 104,
   "metadata": {},
   "outputs": [
    {
     "data": {
      "text/plain": [
       "0       (-1.294, 0.253]\n",
       "1          (0.253, 1.8]\n",
       "2       (-1.294, 0.253]\n",
       "3       (-1.294, 0.253]\n",
       "4          (0.253, 1.8]\n",
       "             ...       \n",
       "995     (-1.294, 0.253]\n",
       "996     (-1.294, 0.253]\n",
       "997     (-1.294, 0.253]\n",
       "998     (-1.294, 0.253]\n",
       "999    (-2.847, -1.294]\n",
       "Name: data1, Length: 1000, dtype: category\n",
       "Categories (4, interval[float64]): [(-2.847, -1.294] < (-1.294, 0.253] < (0.253, 1.8] < (1.8, 3.347]]"
      ]
     },
     "execution_count": 104,
     "metadata": {},
     "output_type": "execute_result"
    }
   ],
   "source": [
    "quartiles = pd.cut(frame.data1, 4)\n",
    "quartiles"
   ]
  },
  {
   "cell_type": "code",
   "execution_count": 106,
   "metadata": {},
   "outputs": [
    {
     "data": {
      "text/plain": [
       "0     (-1.294, 0.253]\n",
       "1        (0.253, 1.8]\n",
       "2     (-1.294, 0.253]\n",
       "3     (-1.294, 0.253]\n",
       "4        (0.253, 1.8]\n",
       "5     (-1.294, 0.253]\n",
       "6     (-1.294, 0.253]\n",
       "7     (-1.294, 0.253]\n",
       "8    (-2.847, -1.294]\n",
       "9        (0.253, 1.8]\n",
       "Name: data1, dtype: category\n",
       "Categories (4, interval[float64]): [(-2.847, -1.294] < (-1.294, 0.253] < (0.253, 1.8] < (1.8, 3.347]]"
      ]
     },
     "execution_count": 106,
     "metadata": {},
     "output_type": "execute_result"
    }
   ],
   "source": [
    "quartiles.head(10)"
   ]
  },
  {
   "cell_type": "code",
   "execution_count": 108,
   "metadata": {},
   "outputs": [
    {
     "data": {
      "text/plain": [
       "0     (-1.294, 0.253]\n",
       "1        (0.253, 1.8]\n",
       "2     (-1.294, 0.253]\n",
       "3     (-1.294, 0.253]\n",
       "4        (0.253, 1.8]\n",
       "5     (-1.294, 0.253]\n",
       "6     (-1.294, 0.253]\n",
       "7     (-1.294, 0.253]\n",
       "8    (-2.847, -1.294]\n",
       "9        (0.253, 1.8]\n",
       "Name: data1, dtype: category\n",
       "Categories (4, interval[float64]): [(-2.847, -1.294] < (-1.294, 0.253] < (0.253, 1.8] < (1.8, 3.347]]"
      ]
     },
     "execution_count": 108,
     "metadata": {},
     "output_type": "execute_result"
    }
   ],
   "source": [
    "quartiles[:10]"
   ]
  },
  {
   "cell_type": "code",
   "execution_count": 110,
   "metadata": {},
   "outputs": [
    {
     "data": {
      "text/plain": [
       "<pandas.core.groupby.generic.SeriesGroupBy object at 0x00000039F21CCAC8>"
      ]
     },
     "execution_count": 110,
     "metadata": {},
     "output_type": "execute_result"
    }
   ],
   "source": [
    "# The Categorical object returned by cut can be passed directly to groupby.\n",
    "    # So we could compute a set of statistics for the data2 column like so:\n",
    "\n",
    "grouped = frame.data2.groupby(quartiles)\n",
    "grouped"
   ]
  },
  {
   "cell_type": "code",
   "execution_count": 112,
   "metadata": {},
   "outputs": [
    {
     "data": {
      "text/plain": [
       "0      2\n",
       "1      7\n",
       "2      1\n",
       "3      5\n",
       "4      6\n",
       "      ..\n",
       "995    5\n",
       "996    5\n",
       "997    4\n",
       "998    1\n",
       "999    0\n",
       "Name: data1, Length: 1000, dtype: int64"
      ]
     },
     "execution_count": 112,
     "metadata": {},
     "output_type": "execute_result"
    }
   ],
   "source": [
    "# These were equal-length buckets; to compute equal-size buckets based on sample quantiles, use qcut. \n",
    "    # I’ll pass labels=False to just get quantile numbers:\n",
    "\n",
    "# Return quantile numbers\n",
    "\n",
    "grouping = pd.qcut(frame.data1, 10, labels=False)\n",
    "grouping"
   ]
  },
  {
   "cell_type": "code",
   "execution_count": 118,
   "metadata": {},
   "outputs": [
    {
     "data": {
      "text/plain": [
       "0   -0.562639\n",
       "1   -1.130607\n",
       "2   -0.069880\n",
       "3    1.280894\n",
       "4    0.224934\n",
       "5   -0.700833\n",
       "dtype: float64"
      ]
     },
     "execution_count": 118,
     "metadata": {},
     "output_type": "execute_result"
    }
   ],
   "source": [
    "# Filling Missing Values with Group-Specific Values\n",
    "\n",
    "# When cleaning up missing data, in some cases you will replace data observations using dropna, \n",
    "    # but in others you may want to impute (fill in) the null (NA) values using a fixed value \n",
    "    # or some value derived from the data. fillna is the right tool to use; \n",
    "    # for example, here I fill in NA values with the mean:\n",
    "\n",
    "s = pd.Series(np.random.randn(6))\n",
    "s"
   ]
  },
  {
   "cell_type": "code",
   "execution_count": 119,
   "metadata": {},
   "outputs": [
    {
     "data": {
      "text/plain": [
       "0         NaN\n",
       "1   -1.130607\n",
       "2         NaN\n",
       "3    1.280894\n",
       "4         NaN\n",
       "5   -0.700833\n",
       "dtype: float64"
      ]
     },
     "execution_count": 119,
     "metadata": {},
     "output_type": "execute_result"
    }
   ],
   "source": [
    "s[::2] = np.nan  # filling s with Nan values at intervals of 2 \n",
    "s"
   ]
  },
  {
   "cell_type": "code",
   "execution_count": 120,
   "metadata": {},
   "outputs": [
    {
     "data": {
      "text/plain": [
       "0   -0.183515\n",
       "1   -1.130607\n",
       "2   -0.183515\n",
       "3    1.280894\n",
       "4   -0.183515\n",
       "5   -0.700833\n",
       "dtype: float64"
      ]
     },
     "execution_count": 120,
     "metadata": {},
     "output_type": "execute_result"
    }
   ],
   "source": [
    "s.fillna(s.mean())"
   ]
  },
  {
   "cell_type": "code",
   "execution_count": 127,
   "metadata": {},
   "outputs": [
    {
     "name": "stdout",
     "output_type": "stream",
     "text": [
      "Ohio          0.105849\n",
      "New York     -1.428066\n",
      "Vermont      -0.453576\n",
      "Florida      -0.124419\n",
      "Oregon        0.493002\n",
      "Nevada        0.361317\n",
      "California   -1.791414\n",
      "Idaho         2.516672\n",
      "dtype: float64\n",
      "['East', 'East', 'East', 'East', 'West', 'West', 'West', 'West']\n"
     ]
    }
   ],
   "source": [
    "# Making the fill value to vary by group\n",
    "\n",
    "# Suppose you need the fill value to vary by group. One way to do this is to group the\n",
    "    # data and use apply with a function that calls fillna on each data chunk.\n",
    "\n",
    "# Here is some sample data on US states divided into eastern and western regions:\n",
    "\n",
    "\n",
    "states = ['Ohio', 'New York', 'Vermont', 'Florida','Oregon', 'Nevada', 'California', 'Idaho']\n",
    "\n",
    "group_key = ['East'] * 4 + ['West'] * 4\n",
    "\n",
    "data = pd.Series(np.random.randn(8), index=states)\n",
    "\n",
    "print(data)\n",
    "print(group_key)"
   ]
  },
  {
   "cell_type": "code",
   "execution_count": 123,
   "metadata": {},
   "outputs": [
    {
     "data": {
      "text/plain": [
       "Ohio          0.304550\n",
       "New York      0.872126\n",
       "Vermont            NaN\n",
       "Florida      -0.528893\n",
       "Oregon        0.760108\n",
       "Nevada             NaN\n",
       "California    0.069828\n",
       "Idaho              NaN\n",
       "dtype: float64"
      ]
     },
     "execution_count": 123,
     "metadata": {},
     "output_type": "execute_result"
    }
   ],
   "source": [
    "# Let’s set some values in the data to be missing:\n",
    "\n",
    "data[['Vermont', 'Nevada', 'Idaho']] = np.nan\n",
    "data"
   ]
  },
  {
   "cell_type": "code",
   "execution_count": 124,
   "metadata": {},
   "outputs": [
    {
     "data": {
      "text/plain": [
       "East    0.215928\n",
       "West    0.414968\n",
       "dtype: float64"
      ]
     },
     "execution_count": 124,
     "metadata": {},
     "output_type": "execute_result"
    }
   ],
   "source": [
    "data.groupby(group_key).mean()"
   ]
  },
  {
   "cell_type": "code",
   "execution_count": 129,
   "metadata": {},
   "outputs": [
    {
     "data": {
      "text/plain": [
       "Ohio          0.105849\n",
       "New York     -1.428066\n",
       "Vermont      -0.453576\n",
       "Florida      -0.124419\n",
       "Oregon        0.493002\n",
       "Nevada        0.361317\n",
       "California   -1.791414\n",
       "Idaho         2.516672\n",
       "dtype: float64"
      ]
     },
     "execution_count": 129,
     "metadata": {},
     "output_type": "execute_result"
    }
   ],
   "source": [
    "# We can fill the NA values using the group means like so:\n",
    "\n",
    "fill_mean = lambda g: g.fillna(g.mean())\n",
    "data.groupby(group_key).apply(fill_mean)"
   ]
  },
  {
   "cell_type": "code",
   "execution_count": 130,
   "metadata": {},
   "outputs": [
    {
     "data": {
      "text/plain": [
       "Ohio          0.105849\n",
       "New York     -1.428066\n",
       "Vermont      -0.453576\n",
       "Florida      -0.124419\n",
       "Oregon        0.493002\n",
       "Nevada        0.361317\n",
       "California   -1.791414\n",
       "Idaho         2.516672\n",
       "dtype: float64"
      ]
     },
     "execution_count": 130,
     "metadata": {},
     "output_type": "execute_result"
    }
   ],
   "source": [
    "# Using predefined fill values that vary by group\n",
    "\n",
    "# In another case, you might have predefined fill values in your code that vary by group.\n",
    "    # Since the groups have a name attribute set internally, we can use that:\n",
    "     \n",
    "fill_values = {'East': 0.5, 'West': -1}\n",
    "fill_func = lambda g: g.fillna(fill_values[g.name])\n",
    "data.groupby(group_key).apply(fill_func)"
   ]
  },
  {
   "cell_type": "code",
   "execution_count": 132,
   "metadata": {},
   "outputs": [
    {
     "data": {
      "text/plain": [
       "AH      1\n",
       "2H      2\n",
       "3H      3\n",
       "4H      4\n",
       "5H      5\n",
       "6H      6\n",
       "7H      7\n",
       "8H      8\n",
       "9H      9\n",
       "10H    10\n",
       "JH     10\n",
       "KH     10\n",
       "QH     10\n",
       "AS      1\n",
       "2S      2\n",
       "3S      3\n",
       "4S      4\n",
       "5S      5\n",
       "6S      6\n",
       "7S      7\n",
       "8S      8\n",
       "9S      9\n",
       "10S    10\n",
       "JS     10\n",
       "KS     10\n",
       "QS     10\n",
       "AC      1\n",
       "2C      2\n",
       "3C      3\n",
       "4C      4\n",
       "5C      5\n",
       "6C      6\n",
       "7C      7\n",
       "8C      8\n",
       "9C      9\n",
       "10C    10\n",
       "JC     10\n",
       "KC     10\n",
       "QC     10\n",
       "AD      1\n",
       "2D      2\n",
       "3D      3\n",
       "4D      4\n",
       "5D      5\n",
       "6D      6\n",
       "7D      7\n",
       "8D      8\n",
       "9D      9\n",
       "10D    10\n",
       "JD     10\n",
       "KD     10\n",
       "QD     10\n",
       "dtype: int64"
      ]
     },
     "execution_count": 132,
     "metadata": {},
     "output_type": "execute_result"
    }
   ],
   "source": [
    "# Random Sampling and Permutation\n",
    "\n",
    "# Drawing a random sample (with or without replacement) from alarge dataset, \n",
    "    # eg:constructing a deck of English-style playing cards\n",
    "\n",
    "# Suppose you wanted to draw a random sample (with or without replacement) from a large dataset \n",
    "    # for Monte Carlo simulation purposes or some other application. \n",
    "    # There are a number of ways to perform the “draws”; here we use the sample method for Series.\n",
    "    \n",
    "# Hearts, Spades, Clubs, Diamonds\n",
    "suits = ['H', 'S', 'C', 'D']\n",
    "card_val = (list(range(1, 11)) + [10] * 3) * 4\n",
    "base_names = ['A'] + list(range(2, 11)) + ['J', 'K', 'Q']\n",
    "cards = []\n",
    "for suit in ['H', 'S', 'C', 'D']:\n",
    "    cards.extend(str(num) + suit for num in base_names)\n",
    "\n",
    "deck = pd.Series(card_val, index=cards)\n",
    "deck"
   ]
  },
  {
   "cell_type": "code",
   "execution_count": 133,
   "metadata": {},
   "outputs": [
    {
     "data": {
      "text/plain": [
       "AH      1\n",
       "2H      2\n",
       "3H      3\n",
       "4H      4\n",
       "5H      5\n",
       "6H      6\n",
       "7H      7\n",
       "8H      8\n",
       "9H      9\n",
       "10H    10\n",
       "JH     10\n",
       "KH     10\n",
       "QH     10\n",
       "dtype: int64"
      ]
     },
     "execution_count": 133,
     "metadata": {},
     "output_type": "execute_result"
    }
   ],
   "source": [
    "# So now we have a Series of length 52 whose index contains card names and values are the ones used\n",
    "    # in Blackjack and other games (to keep things simple, I just let the ace 'A' be 1):\n",
    "\n",
    "deck[:13]"
   ]
  },
  {
   "cell_type": "code",
   "execution_count": 134,
   "metadata": {},
   "outputs": [
    {
     "data": {
      "text/plain": [
       "3C     3\n",
       "JS    10\n",
       "JC    10\n",
       "JD    10\n",
       "8H     8\n",
       "dtype: int64"
      ]
     },
     "execution_count": 134,
     "metadata": {},
     "output_type": "execute_result"
    }
   ],
   "source": [
    "# Drawing a hand of five cards from the deck could be written as:\n",
    "\n",
    "def draw(deck, n=5):\n",
    "    return deck.sample(n)\n",
    "\n",
    "\n",
    "draw(deck)"
   ]
  },
  {
   "cell_type": "code",
   "execution_count": 136,
   "metadata": {},
   "outputs": [
    {
     "data": {
      "text/plain": [
       "C  7C      7\n",
       "   5C      5\n",
       "D  10D    10\n",
       "   9D      9\n",
       "H  7H      7\n",
       "   5H      5\n",
       "S  AS      1\n",
       "   KS     10\n",
       "dtype: int64"
      ]
     },
     "execution_count": 136,
     "metadata": {},
     "output_type": "execute_result"
    }
   ],
   "source": [
    "# Drawing two random cards from each suit\n",
    "\n",
    "# Suppose you wanted two random cards from each suit. \n",
    "    # Because the suit is the last character of each card name, we can group based on this and use apply:\n",
    "\n",
    "get_suit = lambda card: card[-1] # last letter is suit\n",
    "deck.groupby(get_suit).apply(draw, n=2)"
   ]
  },
  {
   "cell_type": "code",
   "execution_count": 137,
   "metadata": {},
   "outputs": [
    {
     "data": {
      "text/plain": [
       "8C      8\n",
       "7C      7\n",
       "JD     10\n",
       "2D      2\n",
       "JH     10\n",
       "10H    10\n",
       "8S      8\n",
       "6S      6\n",
       "dtype: int64"
      ]
     },
     "execution_count": 137,
     "metadata": {},
     "output_type": "execute_result"
    }
   ],
   "source": [
    "# alternatively,we could write:\n",
    "\n",
    "deck.groupby(get_suit, group_keys=False).apply(draw, n=2)"
   ]
  },
  {
   "cell_type": "code",
   "execution_count": 144,
   "metadata": {},
   "outputs": [
    {
     "data": {
      "text/html": [
       "<div>\n",
       "<style scoped>\n",
       "    .dataframe tbody tr th:only-of-type {\n",
       "        vertical-align: middle;\n",
       "    }\n",
       "\n",
       "    .dataframe tbody tr th {\n",
       "        vertical-align: top;\n",
       "    }\n",
       "\n",
       "    .dataframe thead th {\n",
       "        text-align: right;\n",
       "    }\n",
       "</style>\n",
       "<table border=\"1\" class=\"dataframe\">\n",
       "  <thead>\n",
       "    <tr style=\"text-align: right;\">\n",
       "      <th></th>\n",
       "      <th>category</th>\n",
       "      <th>data</th>\n",
       "      <th>weights</th>\n",
       "    </tr>\n",
       "  </thead>\n",
       "  <tbody>\n",
       "    <tr>\n",
       "      <th>0</th>\n",
       "      <td>a</td>\n",
       "      <td>0.108480</td>\n",
       "      <td>0.278910</td>\n",
       "    </tr>\n",
       "    <tr>\n",
       "      <th>1</th>\n",
       "      <td>a</td>\n",
       "      <td>-0.924634</td>\n",
       "      <td>0.059491</td>\n",
       "    </tr>\n",
       "    <tr>\n",
       "      <th>2</th>\n",
       "      <td>a</td>\n",
       "      <td>-0.639827</td>\n",
       "      <td>0.341055</td>\n",
       "    </tr>\n",
       "    <tr>\n",
       "      <th>3</th>\n",
       "      <td>a</td>\n",
       "      <td>-0.271886</td>\n",
       "      <td>0.732100</td>\n",
       "    </tr>\n",
       "    <tr>\n",
       "      <th>4</th>\n",
       "      <td>b</td>\n",
       "      <td>0.906096</td>\n",
       "      <td>0.881823</td>\n",
       "    </tr>\n",
       "    <tr>\n",
       "      <th>5</th>\n",
       "      <td>b</td>\n",
       "      <td>-0.313899</td>\n",
       "      <td>0.018645</td>\n",
       "    </tr>\n",
       "    <tr>\n",
       "      <th>6</th>\n",
       "      <td>b</td>\n",
       "      <td>1.566793</td>\n",
       "      <td>0.745821</td>\n",
       "    </tr>\n",
       "    <tr>\n",
       "      <th>7</th>\n",
       "      <td>b</td>\n",
       "      <td>0.003243</td>\n",
       "      <td>0.425661</td>\n",
       "    </tr>\n",
       "  </tbody>\n",
       "</table>\n",
       "</div>"
      ],
      "text/plain": [
       "  category      data   weights\n",
       "0        a  0.108480  0.278910\n",
       "1        a -0.924634  0.059491\n",
       "2        a -0.639827  0.341055\n",
       "3        a -0.271886  0.732100\n",
       "4        b  0.906096  0.881823\n",
       "5        b -0.313899  0.018645\n",
       "6        b  1.566793  0.745821\n",
       "7        b  0.003243  0.425661"
      ]
     },
     "execution_count": 144,
     "metadata": {},
     "output_type": "execute_result"
    }
   ],
   "source": [
    "# Group Weighted Average and Correlation\n",
    "\n",
    "# Under the split-apply-combine paradigm of groupby, operations between columns in a DataFrame or two Series,\n",
    "    # such as a group weighted average, are possible. \n",
    "    \n",
    "# As an example, take this dataset containing group keys, values, and some weights:\n",
    "    \n",
    "\n",
    "df = pd.DataFrame({'category': ['a', 'a', 'a', 'a','b', 'b', 'b', 'b'],\n",
    "                   'data': np.random.randn(8),\n",
    "                   'weights': np.random.rand(8)})\n",
    "\n",
    "df"
   ]
  },
  {
   "cell_type": "code",
   "execution_count": 145,
   "metadata": {},
   "outputs": [
    {
     "data": {
      "text/plain": [
       "category\n",
       "a   -0.313141\n",
       "b    0.947461\n",
       "dtype: float64"
      ]
     },
     "execution_count": 145,
     "metadata": {},
     "output_type": "execute_result"
    }
   ],
   "source": [
    "# The group weighted average by category would then be:\n",
    "\n",
    "grouped = df.groupby('category')\n",
    "get_wavg = lambda g: np.average(g['data'], weights=g['weights'])\n",
    "grouped.apply(get_wavg)"
   ]
  },
  {
   "cell_type": "code",
   "execution_count": 156,
   "metadata": {},
   "outputs": [
    {
     "data": {
      "text/plain": [
       "Ohio          0.105849\n",
       "New York     -1.428066\n",
       "Vermont      -0.453576\n",
       "Florida      -0.124419\n",
       "Oregon        0.493002\n",
       "Nevada        0.361317\n",
       "California   -1.791414\n",
       "Idaho         2.516672\n",
       "dtype: float64"
      ]
     },
     "execution_count": 156,
     "metadata": {},
     "output_type": "execute_result"
    }
   ],
   "source": [
    "data"
   ]
  },
  {
   "cell_type": "code",
   "execution_count": 164,
   "metadata": {},
   "outputs": [
    {
     "data": {
      "text/html": [
       "<div>\n",
       "<style scoped>\n",
       "    .dataframe tbody tr th:only-of-type {\n",
       "        vertical-align: middle;\n",
       "    }\n",
       "\n",
       "    .dataframe tbody tr th {\n",
       "        vertical-align: top;\n",
       "    }\n",
       "\n",
       "    .dataframe thead th {\n",
       "        text-align: right;\n",
       "    }\n",
       "</style>\n",
       "<table border=\"1\" class=\"dataframe\">\n",
       "  <thead>\n",
       "    <tr style=\"text-align: right;\">\n",
       "      <th></th>\n",
       "      <th>Sample</th>\n",
       "      <th>Nationality</th>\n",
       "      <th>Handedness</th>\n",
       "    </tr>\n",
       "  </thead>\n",
       "  <tbody>\n",
       "    <tr>\n",
       "      <th>0</th>\n",
       "      <td>1</td>\n",
       "      <td>USA</td>\n",
       "      <td>Right-handed</td>\n",
       "    </tr>\n",
       "    <tr>\n",
       "      <th>1</th>\n",
       "      <td>2</td>\n",
       "      <td>Japan</td>\n",
       "      <td>Left-handed</td>\n",
       "    </tr>\n",
       "    <tr>\n",
       "      <th>2</th>\n",
       "      <td>3</td>\n",
       "      <td>USA</td>\n",
       "      <td>Right-handed</td>\n",
       "    </tr>\n",
       "    <tr>\n",
       "      <th>3</th>\n",
       "      <td>4</td>\n",
       "      <td>Japan</td>\n",
       "      <td>Right-handed</td>\n",
       "    </tr>\n",
       "    <tr>\n",
       "      <th>4</th>\n",
       "      <td>5</td>\n",
       "      <td>Japan</td>\n",
       "      <td>Left-handed</td>\n",
       "    </tr>\n",
       "    <tr>\n",
       "      <th>5</th>\n",
       "      <td>6</td>\n",
       "      <td>Japan</td>\n",
       "      <td>Right-handed</td>\n",
       "    </tr>\n",
       "    <tr>\n",
       "      <th>6</th>\n",
       "      <td>7</td>\n",
       "      <td>USA</td>\n",
       "      <td>Right-handed</td>\n",
       "    </tr>\n",
       "    <tr>\n",
       "      <th>7</th>\n",
       "      <td>8</td>\n",
       "      <td>USA</td>\n",
       "      <td>Left-handed</td>\n",
       "    </tr>\n",
       "    <tr>\n",
       "      <th>8</th>\n",
       "      <td>9</td>\n",
       "      <td>Japan</td>\n",
       "      <td>Right-handed</td>\n",
       "    </tr>\n",
       "    <tr>\n",
       "      <th>9</th>\n",
       "      <td>10</td>\n",
       "      <td>USA</td>\n",
       "      <td>Right-handed</td>\n",
       "    </tr>\n",
       "  </tbody>\n",
       "</table>\n",
       "</div>"
      ],
      "text/plain": [
       "  Sample Nationality    Handedness\n",
       "0      1         USA  Right-handed\n",
       "1      2       Japan   Left-handed\n",
       "2      3         USA  Right-handed\n",
       "3      4       Japan  Right-handed\n",
       "4      5       Japan   Left-handed\n",
       "5      6       Japan  Right-handed\n",
       "6      7         USA  Right-handed\n",
       "7      8         USA   Left-handed\n",
       "8      9       Japan  Right-handed\n",
       "9     10         USA  Right-handed"
      ]
     },
     "execution_count": 164,
     "metadata": {},
     "output_type": "execute_result"
    }
   ],
   "source": [
    "# Cross-Tabulations\n",
    "\n",
    "# A cross-tabulation (or crosstab for short) is a special case of a pivot table \n",
    "    # that computes group frequencies.\n",
    "\n",
    "# Here is an example:\n",
    "\n",
    "data2 = pd.DataFrame({'Sample': ['1', '2', '3', '4','5', '6', '7', '8', '9','10'],\n",
    "                   'Nationality': ['USA', 'Japan', 'USA', 'Japan', 'Japan', 'Japan','USA','USA','Japan','USA'],\n",
    "                   'Handedness': ['Right-handed', 'Left-handed', 'Right-handed', 'Right-handed', 'Left-handed',\n",
    "                                  'Right-handed', 'Right-handed', 'Left-handed', 'Right-handed', 'Right-handed']})\n",
    "data2"
   ]
  },
  {
   "cell_type": "code",
   "execution_count": 165,
   "metadata": {},
   "outputs": [
    {
     "data": {
      "text/html": [
       "<div>\n",
       "<style scoped>\n",
       "    .dataframe tbody tr th:only-of-type {\n",
       "        vertical-align: middle;\n",
       "    }\n",
       "\n",
       "    .dataframe tbody tr th {\n",
       "        vertical-align: top;\n",
       "    }\n",
       "\n",
       "    .dataframe thead th {\n",
       "        text-align: right;\n",
       "    }\n",
       "</style>\n",
       "<table border=\"1\" class=\"dataframe\">\n",
       "  <thead>\n",
       "    <tr style=\"text-align: right;\">\n",
       "      <th>Handedness</th>\n",
       "      <th>Left-handed</th>\n",
       "      <th>Right-handed</th>\n",
       "      <th>All</th>\n",
       "    </tr>\n",
       "    <tr>\n",
       "      <th>Nationality</th>\n",
       "      <th></th>\n",
       "      <th></th>\n",
       "      <th></th>\n",
       "    </tr>\n",
       "  </thead>\n",
       "  <tbody>\n",
       "    <tr>\n",
       "      <th>Japan</th>\n",
       "      <td>2</td>\n",
       "      <td>3</td>\n",
       "      <td>5</td>\n",
       "    </tr>\n",
       "    <tr>\n",
       "      <th>USA</th>\n",
       "      <td>1</td>\n",
       "      <td>4</td>\n",
       "      <td>5</td>\n",
       "    </tr>\n",
       "    <tr>\n",
       "      <th>All</th>\n",
       "      <td>3</td>\n",
       "      <td>7</td>\n",
       "      <td>10</td>\n",
       "    </tr>\n",
       "  </tbody>\n",
       "</table>\n",
       "</div>"
      ],
      "text/plain": [
       "Handedness   Left-handed  Right-handed  All\n",
       "Nationality                                \n",
       "Japan                  2             3    5\n",
       "USA                    1             4    5\n",
       "All                    3             7   10"
      ]
     },
     "execution_count": 165,
     "metadata": {},
     "output_type": "execute_result"
    }
   ],
   "source": [
    "# As part of some survey analysis, we might want to summarize this data by nationality and handedness.\n",
    "    # You could use pivot_table to do this, but the pandas.crosstab function can be more convenient:\n",
    "\n",
    "pd.crosstab(data2.Nationality, data2.Handedness, margins=True)  #cross_tab"
   ]
  },
  {
   "cell_type": "code",
   "execution_count": 5,
   "metadata": {},
   "outputs": [
    {
     "ename": "NameError",
     "evalue": "name 'pd' is not defined",
     "output_type": "error",
     "traceback": [
      "\u001b[1;31m---------------------------------------------------------------------------\u001b[0m",
      "\u001b[1;31mNameError\u001b[0m                                 Traceback (most recent call last)",
      "\u001b[1;32m<ipython-input-5-28faf831a1d3>\u001b[0m in \u001b[0;36m<module>\u001b[1;34m\u001b[0m\n\u001b[0;32m      3\u001b[0m \u001b[1;31m# As in:\u001b[0m\u001b[1;33m\u001b[0m\u001b[1;33m\u001b[0m\u001b[1;33m\u001b[0m\u001b[0m\n\u001b[0;32m      4\u001b[0m \u001b[1;33m\u001b[0m\u001b[0m\n\u001b[1;32m----> 5\u001b[1;33m \u001b[0mpd\u001b[0m\u001b[1;33m.\u001b[0m\u001b[0mcrosstab\u001b[0m\u001b[1;33m(\u001b[0m\u001b[1;33m[\u001b[0m\u001b[0mtips\u001b[0m\u001b[1;33m.\u001b[0m\u001b[0mtime\u001b[0m\u001b[1;33m,\u001b[0m \u001b[0mtips\u001b[0m\u001b[1;33m.\u001b[0m\u001b[0mday\u001b[0m\u001b[1;33m]\u001b[0m\u001b[1;33m,\u001b[0m \u001b[0mtips\u001b[0m\u001b[1;33m.\u001b[0m\u001b[0msmoker\u001b[0m\u001b[1;33m,\u001b[0m \u001b[0mmargins\u001b[0m\u001b[1;33m=\u001b[0m\u001b[1;32mTrue\u001b[0m\u001b[1;33m)\u001b[0m\u001b[1;33m\u001b[0m\u001b[1;33m\u001b[0m\u001b[0m\n\u001b[0m",
      "\u001b[1;31mNameError\u001b[0m: name 'pd' is not defined"
     ]
    }
   ],
   "source": [
    "# The first two arguments to crosstab can each either be an array or Series or a list of arrays. \n",
    "\n",
    "# As in:\n",
    "\n",
    "pd.crosstab([tips.time, tips.day], tips.smoker, margins=True)"
   ]
  },
  {
   "cell_type": "code",
   "execution_count": 4,
   "metadata": {
    "collapsed": true,
    "jupyter": {
     "outputs_hidden": true
    }
   },
   "outputs": [
    {
     "name": "stderr",
     "output_type": "stream",
     "text": [
      "[NbConvertApp] Converting notebook groupByMechanics.ipynb to html\n",
      "[NbConvertApp] Writing 394105 bytes to groupByMechanics.html\n"
     ]
    }
   ],
   "source": [
    "!jupyter nbconvert --to html groupByMechanics.ipynb"
   ]
  },
  {
   "cell_type": "markdown",
   "metadata": {},
   "source": [
    "# The End"
   ]
  }
 ],
 "metadata": {
  "kernelspec": {
   "display_name": "Python 3",
   "language": "python",
   "name": "python3"
  },
  "language_info": {
   "codemirror_mode": {
    "name": "ipython",
    "version": 3
   },
   "file_extension": ".py",
   "mimetype": "text/x-python",
   "name": "python",
   "nbconvert_exporter": "python",
   "pygments_lexer": "ipython3",
   "version": "3.7.6"
  }
 },
 "nbformat": 4,
 "nbformat_minor": 4
}
